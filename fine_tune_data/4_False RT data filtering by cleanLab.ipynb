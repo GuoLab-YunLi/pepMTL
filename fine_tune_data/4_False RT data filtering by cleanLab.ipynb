{
 "cells": [
  {
   "cell_type": "code",
   "execution_count": 3,
   "id": "b58d64d9-7911-46cd-8443-f6ca0d7d4016",
   "metadata": {},
   "outputs": [
    {
     "name": "stdout",
     "output_type": "stream",
     "text": [
      "Collecting cleanlab\n",
      "  Downloading cleanlab-2.5.0-py3-none-any.whl.metadata (23 kB)\n",
      "Requirement already satisfied: numpy>=1.20.0 in c:\\users\\deep\\miniconda3\\envs\\bert\\lib\\site-packages (from cleanlab) (1.24.1)\n",
      "Requirement already satisfied: scikit-learn>=1.0 in c:\\users\\deep\\miniconda3\\envs\\bert\\lib\\site-packages (from cleanlab) (1.3.2)\n",
      "Requirement already satisfied: tqdm>=4.53.0 in c:\\users\\deep\\miniconda3\\envs\\bert\\lib\\site-packages (from cleanlab) (4.66.1)\n",
      "Requirement already satisfied: pandas>=1.1.5 in c:\\users\\deep\\miniconda3\\envs\\bert\\lib\\site-packages (from cleanlab) (2.1.2)\n",
      "Collecting termcolor>=2.0.0 (from cleanlab)\n",
      "  Downloading termcolor-2.3.0-py3-none-any.whl (6.9 kB)\n",
      "Requirement already satisfied: python-dateutil>=2.8.2 in c:\\users\\deep\\miniconda3\\envs\\bert\\lib\\site-packages (from pandas>=1.1.5->cleanlab) (2.8.2)\n",
      "Requirement already satisfied: pytz>=2020.1 in c:\\users\\deep\\miniconda3\\envs\\bert\\lib\\site-packages (from pandas>=1.1.5->cleanlab) (2023.3.post1)\n",
      "Requirement already satisfied: tzdata>=2022.1 in c:\\users\\deep\\miniconda3\\envs\\bert\\lib\\site-packages (from pandas>=1.1.5->cleanlab) (2023.3)\n",
      "Requirement already satisfied: scipy>=1.5.0 in c:\\users\\deep\\miniconda3\\envs\\bert\\lib\\site-packages (from scikit-learn>=1.0->cleanlab) (1.11.3)\n",
      "Requirement already satisfied: joblib>=1.1.1 in c:\\users\\deep\\miniconda3\\envs\\bert\\lib\\site-packages (from scikit-learn>=1.0->cleanlab) (1.3.2)\n",
      "Requirement already satisfied: threadpoolctl>=2.0.0 in c:\\users\\deep\\miniconda3\\envs\\bert\\lib\\site-packages (from scikit-learn>=1.0->cleanlab) (3.2.0)\n",
      "Requirement already satisfied: colorama in c:\\users\\deep\\miniconda3\\envs\\bert\\lib\\site-packages (from tqdm>=4.53.0->cleanlab) (0.4.6)\n",
      "Requirement already satisfied: six>=1.5 in c:\\users\\deep\\miniconda3\\envs\\bert\\lib\\site-packages (from python-dateutil>=2.8.2->pandas>=1.1.5->cleanlab) (1.16.0)\n",
      "Downloading cleanlab-2.5.0-py3-none-any.whl (285 kB)\n",
      "   ---------------------------------------- 0.0/285.5 kB ? eta -:--:--\n",
      "   ---- ---------------------------------- 30.7/285.5 kB 660.6 kB/s eta 0:00:01\n",
      "   ----- --------------------------------- 41.0/285.5 kB 653.6 kB/s eta 0:00:01\n",
      "   --------- ----------------------------- 71.7/285.5 kB 491.5 kB/s eta 0:00:01\n",
      "   ------------------- ------------------ 143.4/285.5 kB 774.0 kB/s eta 0:00:01\n",
      "   ----------------------- -------------- 174.1/285.5 kB 748.1 kB/s eta 0:00:01\n",
      "   ---------------------------------------- 285.5/285.5 kB 1.0 MB/s eta 0:00:00\n",
      "Installing collected packages: termcolor, cleanlab\n",
      "Successfully installed cleanlab-2.5.0 termcolor-2.3.0\n"
     ]
    }
   ],
   "source": [
    "# Install cleanlab\n",
    "!pip install cleanlab"
   ]
  },
  {
   "cell_type": "code",
   "execution_count": 11,
   "id": "405e044c-aacc-4a15-bba7-b74481b07761",
   "metadata": {},
   "outputs": [
    {
     "name": "stdout",
     "output_type": "stream",
     "text": [
      "Collecting skorch\n",
      "  Downloading skorch-0.15.0-py3-none-any.whl.metadata (11 kB)\n",
      "Requirement already satisfied: numpy>=1.13.3 in c:\\users\\deep\\miniconda3\\envs\\bert\\lib\\site-packages (from skorch) (1.24.1)\n",
      "Requirement already satisfied: scikit-learn>=0.22.0 in c:\\users\\deep\\miniconda3\\envs\\bert\\lib\\site-packages (from skorch) (1.3.2)\n",
      "Requirement already satisfied: scipy>=1.1.0 in c:\\users\\deep\\miniconda3\\envs\\bert\\lib\\site-packages (from skorch) (1.11.3)\n",
      "Requirement already satisfied: tabulate>=0.7.7 in c:\\users\\deep\\miniconda3\\envs\\bert\\lib\\site-packages (from skorch) (0.9.0)\n",
      "Requirement already satisfied: tqdm>=4.14.0 in c:\\users\\deep\\miniconda3\\envs\\bert\\lib\\site-packages (from skorch) (4.66.1)\n",
      "Requirement already satisfied: joblib>=1.1.1 in c:\\users\\deep\\miniconda3\\envs\\bert\\lib\\site-packages (from scikit-learn>=0.22.0->skorch) (1.3.2)\n",
      "Requirement already satisfied: threadpoolctl>=2.0.0 in c:\\users\\deep\\miniconda3\\envs\\bert\\lib\\site-packages (from scikit-learn>=0.22.0->skorch) (3.2.0)\n",
      "Requirement already satisfied: colorama in c:\\users\\deep\\miniconda3\\envs\\bert\\lib\\site-packages (from tqdm>=4.14.0->skorch) (0.4.6)\n",
      "Downloading skorch-0.15.0-py3-none-any.whl (239 kB)\n",
      "   ---------------------------------------- 0.0/239.3 kB ? eta -:--:--\n",
      "   - -------------------------------------- 10.2/239.3 kB ? eta -:--:--\n",
      "   ----- --------------------------------- 30.7/239.3 kB 640.0 kB/s eta 0:00:01\n",
      "   ------ -------------------------------- 41.0/239.3 kB 279.3 kB/s eta 0:00:01\n",
      "   ----------------- -------------------- 112.6/239.3 kB 652.2 kB/s eta 0:00:01\n",
      "   ----------------- -------------------- 112.6/239.3 kB 652.2 kB/s eta 0:00:01\n",
      "   -------------------------------- ----- 204.8/239.3 kB 778.2 kB/s eta 0:00:01\n",
      "   -------------------------------------- 239.3/239.3 kB 812.2 kB/s eta 0:00:00\n",
      "Installing collected packages: skorch\n",
      "Successfully installed skorch-0.15.0\n",
      "Note: you may need to restart the kernel to use updated packages.\n"
     ]
    }
   ],
   "source": [
    "pip install skorch"
   ]
  },
  {
   "cell_type": "code",
   "execution_count": 13,
   "id": "f881b1cd-f663-4adf-8da4-7f51e4d14f78",
   "metadata": {},
   "outputs": [
    {
     "name": "stdout",
     "output_type": "stream",
     "text": [
      "Collecting accelerate\n",
      "  Downloading accelerate-0.24.1-py3-none-any.whl.metadata (18 kB)\n",
      "Requirement already satisfied: numpy>=1.17 in c:\\users\\deep\\miniconda3\\envs\\bert\\lib\\site-packages (from accelerate) (1.24.1)\n",
      "Requirement already satisfied: packaging>=20.0 in c:\\users\\deep\\miniconda3\\envs\\bert\\lib\\site-packages (from accelerate) (23.2)\n",
      "Requirement already satisfied: psutil in c:\\users\\deep\\miniconda3\\envs\\bert\\lib\\site-packages (from accelerate) (5.9.6)\n",
      "Requirement already satisfied: pyyaml in c:\\users\\deep\\miniconda3\\envs\\bert\\lib\\site-packages (from accelerate) (6.0.1)\n",
      "Requirement already satisfied: torch>=1.10.0 in c:\\users\\deep\\miniconda3\\envs\\bert\\lib\\site-packages (from accelerate) (2.1.0+cu121)\n",
      "Requirement already satisfied: huggingface-hub in c:\\users\\deep\\miniconda3\\envs\\bert\\lib\\site-packages (from accelerate) (0.17.3)\n",
      "Requirement already satisfied: filelock in c:\\users\\deep\\miniconda3\\envs\\bert\\lib\\site-packages (from torch>=1.10.0->accelerate) (3.9.0)\n",
      "Requirement already satisfied: typing-extensions in c:\\users\\deep\\miniconda3\\envs\\bert\\lib\\site-packages (from torch>=1.10.0->accelerate) (4.4.0)\n",
      "Requirement already satisfied: sympy in c:\\users\\deep\\miniconda3\\envs\\bert\\lib\\site-packages (from torch>=1.10.0->accelerate) (1.12)\n",
      "Requirement already satisfied: networkx in c:\\users\\deep\\miniconda3\\envs\\bert\\lib\\site-packages (from torch>=1.10.0->accelerate) (3.0)\n",
      "Requirement already satisfied: jinja2 in c:\\users\\deep\\miniconda3\\envs\\bert\\lib\\site-packages (from torch>=1.10.0->accelerate) (3.1.2)\n",
      "Requirement already satisfied: fsspec in c:\\users\\deep\\miniconda3\\envs\\bert\\lib\\site-packages (from torch>=1.10.0->accelerate) (2023.4.0)\n",
      "Requirement already satisfied: requests in c:\\users\\deep\\miniconda3\\envs\\bert\\lib\\site-packages (from huggingface-hub->accelerate) (2.31.0)\n",
      "Requirement already satisfied: tqdm>=4.42.1 in c:\\users\\deep\\miniconda3\\envs\\bert\\lib\\site-packages (from huggingface-hub->accelerate) (4.66.1)\n",
      "Requirement already satisfied: colorama in c:\\users\\deep\\miniconda3\\envs\\bert\\lib\\site-packages (from tqdm>=4.42.1->huggingface-hub->accelerate) (0.4.6)\n",
      "Requirement already satisfied: MarkupSafe>=2.0 in c:\\users\\deep\\miniconda3\\envs\\bert\\lib\\site-packages (from jinja2->torch>=1.10.0->accelerate) (2.1.2)\n",
      "Requirement already satisfied: charset-normalizer<4,>=2 in c:\\users\\deep\\miniconda3\\envs\\bert\\lib\\site-packages (from requests->huggingface-hub->accelerate) (2.1.1)\n",
      "Requirement already satisfied: idna<4,>=2.5 in c:\\users\\deep\\miniconda3\\envs\\bert\\lib\\site-packages (from requests->huggingface-hub->accelerate) (3.4)\n",
      "Requirement already satisfied: urllib3<3,>=1.21.1 in c:\\users\\deep\\miniconda3\\envs\\bert\\lib\\site-packages (from requests->huggingface-hub->accelerate) (1.26.13)\n",
      "Requirement already satisfied: certifi>=2017.4.17 in c:\\users\\deep\\miniconda3\\envs\\bert\\lib\\site-packages (from requests->huggingface-hub->accelerate) (2022.12.7)\n",
      "Requirement already satisfied: mpmath>=0.19 in c:\\users\\deep\\miniconda3\\envs\\bert\\lib\\site-packages (from sympy->torch>=1.10.0->accelerate) (1.3.0)\n",
      "Downloading accelerate-0.24.1-py3-none-any.whl (261 kB)\n",
      "   ---------------------------------------- 0.0/261.4 kB ? eta -:--:--\n",
      "   - -------------------------------------- 10.2/261.4 kB ? eta -:--:--\n",
      "   ---- ---------------------------------- 30.7/261.4 kB 660.6 kB/s eta 0:00:01\n",
      "   ------ -------------------------------- 41.0/261.4 kB 281.8 kB/s eta 0:00:01\n",
      "   ---------------- --------------------- 112.6/261.4 kB 595.3 kB/s eta 0:00:01\n",
      "   ----------------- -------------------- 122.9/261.4 kB 514.3 kB/s eta 0:00:01\n",
      "   ----------------------------- -------- 204.8/261.4 kB 731.4 kB/s eta 0:00:01\n",
      "   -------------------------------------- 261.4/261.4 kB 893.7 kB/s eta 0:00:00\n",
      "Installing collected packages: accelerate\n",
      "Successfully installed accelerate-0.24.1\n",
      "Note: you may need to restart the kernel to use updated packages.\n"
     ]
    }
   ],
   "source": [
    "pip install accelerate"
   ]
  },
  {
   "cell_type": "code",
   "execution_count": 1,
   "id": "c15eeb75-bdf5-47fd-91f6-8274de85bd99",
   "metadata": {},
   "outputs": [
    {
     "data": {
      "text/html": [
       "<div>\n",
       "<style scoped>\n",
       "    .dataframe tbody tr th:only-of-type {\n",
       "        vertical-align: middle;\n",
       "    }\n",
       "\n",
       "    .dataframe tbody tr th {\n",
       "        vertical-align: top;\n",
       "    }\n",
       "\n",
       "    .dataframe thead th {\n",
       "        text-align: right;\n",
       "    }\n",
       "</style>\n",
       "<table border=\"1\" class=\"dataframe\">\n",
       "  <thead>\n",
       "    <tr style=\"text-align: right;\">\n",
       "      <th></th>\n",
       "      <th>Modified sequence</th>\n",
       "      <th>Charge</th>\n",
       "      <th>Length</th>\n",
       "      <th>Fragmentation</th>\n",
       "      <th>m/z</th>\n",
       "      <th>Mass</th>\n",
       "      <th>Retention time</th>\n",
       "      <th>CCS</th>\n",
       "      <th>Matches</th>\n",
       "      <th>Intensities</th>\n",
       "      <th>Masses</th>\n",
       "      <th>Intensity</th>\n",
       "      <th>Score</th>\n",
       "    </tr>\n",
       "  </thead>\n",
       "  <tbody>\n",
       "    <tr>\n",
       "      <th>0</th>\n",
       "      <td>AAAAAAAAAAAAAAAGAGAGAK</td>\n",
       "      <td>3.0</td>\n",
       "      <td>22</td>\n",
       "      <td>2</td>\n",
       "      <td>532.9533</td>\n",
       "      <td>1595.8380</td>\n",
       "      <td>70.32</td>\n",
       "      <td>567.54</td>\n",
       "      <td>y3;y4;y5;y7;y8;y9;y10;y11;y12;y14;y15;b3;b4;b5...</td>\n",
       "      <td>[0.0, 0.0, 105.8, 258.0, 447.1, 418.0, 438.4, ...</td>\n",
       "      <td>[0.0, 0.0, 214.119643974358, 285.157343718957,...</td>\n",
       "      <td>43961.0</td>\n",
       "      <td>78.86</td>\n",
       "    </tr>\n",
       "    <tr>\n",
       "      <th>1</th>\n",
       "      <td>AAAAAAAAAAAATGTEAGPGTAGGSENGSEVAAQPAGLSGPAEVGP...</td>\n",
       "      <td>3.0</td>\n",
       "      <td>52</td>\n",
       "      <td>2</td>\n",
       "      <td>1468.0429</td>\n",
       "      <td>4401.1069</td>\n",
       "      <td>84.68</td>\n",
       "      <td>840.61</td>\n",
       "      <td>y2;y3;y4;y5;y6;y7;y8;y9;y10;y12;y13;y14;y16;y1...</td>\n",
       "      <td>[0.0, 0.0, 54.5, 163.1, 388.9, 912.3, 1266.1, ...</td>\n",
       "      <td>[0.0, 0.0, 214.117024092357, 285.155549934846,...</td>\n",
       "      <td>92636.0</td>\n",
       "      <td>63.10</td>\n",
       "    </tr>\n",
       "    <tr>\n",
       "      <th>2</th>\n",
       "      <td>AAAAAAAAAAAATGTEAGPGTAGGSENGSEVAAQPAGLSGPAEVGP...</td>\n",
       "      <td>3.0</td>\n",
       "      <td>52</td>\n",
       "      <td>2</td>\n",
       "      <td>1468.0429</td>\n",
       "      <td>4401.1069</td>\n",
       "      <td>84.68</td>\n",
       "      <td>840.61</td>\n",
       "      <td>y2;y3;y4;y5;y7;y8;y9;y10;y12;y13;y14;y16;y18;b...</td>\n",
       "      <td>[0.0, 0.0, 17.9, 98.4, 358.1, 575.6, 1189.0, 1...</td>\n",
       "      <td>[0.0, 0.0, 214.117562639275, 285.155775087783,...</td>\n",
       "      <td>209040.0</td>\n",
       "      <td>55.18</td>\n",
       "    </tr>\n",
       "    <tr>\n",
       "      <th>3</th>\n",
       "      <td>AAAAAAAAAAGAAGGR</td>\n",
       "      <td>2.0</td>\n",
       "      <td>16</td>\n",
       "      <td>2</td>\n",
       "      <td>599.8180</td>\n",
       "      <td>1197.6214</td>\n",
       "      <td>32.52</td>\n",
       "      <td>397.97</td>\n",
       "      <td>y3;y4;y5;y6;y7;y8;y9;y10;y11;y12;y13;y14;y3-NH...</td>\n",
       "      <td>[0.0, 0.0, 54.2, 108.7, 100.6, 79.9, 53.6, 49....</td>\n",
       "      <td>[0.0, 0.0, 214.118524618109, 285.156051001449,...</td>\n",
       "      <td>13071.0</td>\n",
       "      <td>143.39</td>\n",
       "    </tr>\n",
       "    <tr>\n",
       "      <th>4</th>\n",
       "      <td>[1]AAAAAAAAAAGAAGGR</td>\n",
       "      <td>2.0</td>\n",
       "      <td>16</td>\n",
       "      <td>2</td>\n",
       "      <td>620.8233</td>\n",
       "      <td>1239.6320</td>\n",
       "      <td>71.45</td>\n",
       "      <td>409.09</td>\n",
       "      <td>y2;y3;y4;y5;y6;y7;y8;y9;y10;y11;y12;y13;y14;y2...</td>\n",
       "      <td>[0.0, 0.0, 624.3, 1008.1, 666.0, 456.4, 248.0,...</td>\n",
       "      <td>[0.0, 0.0, 256.129507258295, 327.166322347601,...</td>\n",
       "      <td>55383.0</td>\n",
       "      <td>151.22</td>\n",
       "    </tr>\n",
       "    <tr>\n",
       "      <th>...</th>\n",
       "      <td>...</td>\n",
       "      <td>...</td>\n",
       "      <td>...</td>\n",
       "      <td>...</td>\n",
       "      <td>...</td>\n",
       "      <td>...</td>\n",
       "      <td>...</td>\n",
       "      <td>...</td>\n",
       "      <td>...</td>\n",
       "      <td>...</td>\n",
       "      <td>...</td>\n",
       "      <td>...</td>\n",
       "      <td>...</td>\n",
       "    </tr>\n",
       "    <tr>\n",
       "      <th>249816</th>\n",
       "      <td>YYVTIIDAPGHRDFIK</td>\n",
       "      <td>3.0</td>\n",
       "      <td>16</td>\n",
       "      <td>2</td>\n",
       "      <td>636.6720</td>\n",
       "      <td>1906.9941</td>\n",
       "      <td>74.40</td>\n",
       "      <td>532.57</td>\n",
       "      <td>y3;y5;y6;y7;y8;y9;y10;y11;y12;y13;y8-H2O;y9-H2...</td>\n",
       "      <td>[0.0, 1289.3, 211.3, 175.1, 0.0, 0.0, 0.0, 0.0...</td>\n",
       "      <td>[0.0, 327.133358274998, 426.202562281217, 527....</td>\n",
       "      <td>212860.0</td>\n",
       "      <td>84.31</td>\n",
       "    </tr>\n",
       "    <tr>\n",
       "      <th>249817</th>\n",
       "      <td>YYYAVVDC[4]DSPETASK</td>\n",
       "      <td>2.0</td>\n",
       "      <td>16</td>\n",
       "      <td>2</td>\n",
       "      <td>934.4064</td>\n",
       "      <td>1866.7982</td>\n",
       "      <td>60.42</td>\n",
       "      <td>452.93</td>\n",
       "      <td>y3;y4;y6;y7;y8;y9;y10;y11;y12;y12-H2O;a2;b2;b3...</td>\n",
       "      <td>[0.0, 171.4, 180.6, 200.5, 176.7, 23.1, 0.0, 0...</td>\n",
       "      <td>[0.0, 327.133940305433, 490.194982538756, 561....</td>\n",
       "      <td>61190.0</td>\n",
       "      <td>50.12</td>\n",
       "    </tr>\n",
       "    <tr>\n",
       "      <th>249818</th>\n",
       "      <td>YYYAVVDC[4]DSPETASK</td>\n",
       "      <td>2.0</td>\n",
       "      <td>16</td>\n",
       "      <td>2</td>\n",
       "      <td>934.4064</td>\n",
       "      <td>1866.7982</td>\n",
       "      <td>60.42</td>\n",
       "      <td>452.93</td>\n",
       "      <td>y2;y3;y4;y6;y7;y8;y9;y10;y11;y12;y13;y14;y6-H2...</td>\n",
       "      <td>[0.0, 361.6, 273.3, 180.5, 151.9, 0.0, 0.0, 0....</td>\n",
       "      <td>[0.0, 327.134565248805, 490.196021901735, 561....</td>\n",
       "      <td>54186.0</td>\n",
       "      <td>69.64</td>\n",
       "    </tr>\n",
       "    <tr>\n",
       "      <th>249819</th>\n",
       "      <td>YYYAVVDC[4]DSPETASK</td>\n",
       "      <td>2.0</td>\n",
       "      <td>16</td>\n",
       "      <td>2</td>\n",
       "      <td>934.4064</td>\n",
       "      <td>1866.7982</td>\n",
       "      <td>60.42</td>\n",
       "      <td>452.93</td>\n",
       "      <td>y2;y3;y4;y6;y7;y8;y9;y10;y11;y12;y13;y14;y9-H2...</td>\n",
       "      <td>[0.0, 1319.7, 1584.1, 1775.7, 1069.7, 330.1, 6...</td>\n",
       "      <td>[0.0, 327.134201394229, 490.194702307244, 561....</td>\n",
       "      <td>2715800.0</td>\n",
       "      <td>145.08</td>\n",
       "    </tr>\n",
       "    <tr>\n",
       "      <th>249820</th>\n",
       "      <td>YYYDGDMIC[4]K</td>\n",
       "      <td>2.0</td>\n",
       "      <td>10</td>\n",
       "      <td>2</td>\n",
       "      <td>664.2703</td>\n",
       "      <td>1326.5261</td>\n",
       "      <td>56.36</td>\n",
       "      <td>384.37</td>\n",
       "      <td>y2;y3;y4;y5;y6;y7;y8;y9;y7-H2O;y8-H2O;y9-H2O;y...</td>\n",
       "      <td>[0.0, 877.1, 0.0, 0.0, 0.0, 68.1, 0.0, 0.0, 0....</td>\n",
       "      <td>[0.0, 327.134117236667, 0.0, 0.0, 0.0, 777.265...</td>\n",
       "      <td>829020.0</td>\n",
       "      <td>99.30</td>\n",
       "    </tr>\n",
       "  </tbody>\n",
       "</table>\n",
       "<p>249821 rows × 13 columns</p>\n",
       "</div>"
      ],
      "text/plain": [
       "                                        Modified sequence  Charge Length  \\\n",
       "0                                  AAAAAAAAAAAAAAAGAGAGAK     3.0     22   \n",
       "1       AAAAAAAAAAAATGTEAGPGTAGGSENGSEVAAQPAGLSGPAEVGP...     3.0     52   \n",
       "2       AAAAAAAAAAAATGTEAGPGTAGGSENGSEVAAQPAGLSGPAEVGP...     3.0     52   \n",
       "3                                        AAAAAAAAAAGAAGGR     2.0     16   \n",
       "4                                     [1]AAAAAAAAAAGAAGGR     2.0     16   \n",
       "...                                                   ...     ...    ...   \n",
       "249816                                   YYVTIIDAPGHRDFIK     3.0     16   \n",
       "249817                                YYYAVVDC[4]DSPETASK     2.0     16   \n",
       "249818                                YYYAVVDC[4]DSPETASK     2.0     16   \n",
       "249819                                YYYAVVDC[4]DSPETASK     2.0     16   \n",
       "249820                                      YYYDGDMIC[4]K     2.0     10   \n",
       "\n",
       "       Fragmentation        m/z       Mass  Retention time     CCS  \\\n",
       "0                  2   532.9533  1595.8380           70.32  567.54   \n",
       "1                  2  1468.0429  4401.1069           84.68  840.61   \n",
       "2                  2  1468.0429  4401.1069           84.68  840.61   \n",
       "3                  2   599.8180  1197.6214           32.52  397.97   \n",
       "4                  2   620.8233  1239.6320           71.45  409.09   \n",
       "...              ...        ...        ...             ...     ...   \n",
       "249816             2   636.6720  1906.9941           74.40  532.57   \n",
       "249817             2   934.4064  1866.7982           60.42  452.93   \n",
       "249818             2   934.4064  1866.7982           60.42  452.93   \n",
       "249819             2   934.4064  1866.7982           60.42  452.93   \n",
       "249820             2   664.2703  1326.5261           56.36  384.37   \n",
       "\n",
       "                                                  Matches  \\\n",
       "0       y3;y4;y5;y7;y8;y9;y10;y11;y12;y14;y15;b3;b4;b5...   \n",
       "1       y2;y3;y4;y5;y6;y7;y8;y9;y10;y12;y13;y14;y16;y1...   \n",
       "2       y2;y3;y4;y5;y7;y8;y9;y10;y12;y13;y14;y16;y18;b...   \n",
       "3       y3;y4;y5;y6;y7;y8;y9;y10;y11;y12;y13;y14;y3-NH...   \n",
       "4       y2;y3;y4;y5;y6;y7;y8;y9;y10;y11;y12;y13;y14;y2...   \n",
       "...                                                   ...   \n",
       "249816  y3;y5;y6;y7;y8;y9;y10;y11;y12;y13;y8-H2O;y9-H2...   \n",
       "249817  y3;y4;y6;y7;y8;y9;y10;y11;y12;y12-H2O;a2;b2;b3...   \n",
       "249818  y2;y3;y4;y6;y7;y8;y9;y10;y11;y12;y13;y14;y6-H2...   \n",
       "249819  y2;y3;y4;y6;y7;y8;y9;y10;y11;y12;y13;y14;y9-H2...   \n",
       "249820  y2;y3;y4;y5;y6;y7;y8;y9;y7-H2O;y8-H2O;y9-H2O;y...   \n",
       "\n",
       "                                              Intensities  \\\n",
       "0       [0.0, 0.0, 105.8, 258.0, 447.1, 418.0, 438.4, ...   \n",
       "1       [0.0, 0.0, 54.5, 163.1, 388.9, 912.3, 1266.1, ...   \n",
       "2       [0.0, 0.0, 17.9, 98.4, 358.1, 575.6, 1189.0, 1...   \n",
       "3       [0.0, 0.0, 54.2, 108.7, 100.6, 79.9, 53.6, 49....   \n",
       "4       [0.0, 0.0, 624.3, 1008.1, 666.0, 456.4, 248.0,...   \n",
       "...                                                   ...   \n",
       "249816  [0.0, 1289.3, 211.3, 175.1, 0.0, 0.0, 0.0, 0.0...   \n",
       "249817  [0.0, 171.4, 180.6, 200.5, 176.7, 23.1, 0.0, 0...   \n",
       "249818  [0.0, 361.6, 273.3, 180.5, 151.9, 0.0, 0.0, 0....   \n",
       "249819  [0.0, 1319.7, 1584.1, 1775.7, 1069.7, 330.1, 6...   \n",
       "249820  [0.0, 877.1, 0.0, 0.0, 0.0, 68.1, 0.0, 0.0, 0....   \n",
       "\n",
       "                                                   Masses  Intensity   Score  \n",
       "0       [0.0, 0.0, 214.119643974358, 285.157343718957,...    43961.0   78.86  \n",
       "1       [0.0, 0.0, 214.117024092357, 285.155549934846,...    92636.0   63.10  \n",
       "2       [0.0, 0.0, 214.117562639275, 285.155775087783,...   209040.0   55.18  \n",
       "3       [0.0, 0.0, 214.118524618109, 285.156051001449,...    13071.0  143.39  \n",
       "4       [0.0, 0.0, 256.129507258295, 327.166322347601,...    55383.0  151.22  \n",
       "...                                                   ...        ...     ...  \n",
       "249816  [0.0, 327.133358274998, 426.202562281217, 527....   212860.0   84.31  \n",
       "249817  [0.0, 327.133940305433, 490.194982538756, 561....    61190.0   50.12  \n",
       "249818  [0.0, 327.134565248805, 490.196021901735, 561....    54186.0   69.64  \n",
       "249819  [0.0, 327.134201394229, 490.194702307244, 561....  2715800.0  145.08  \n",
       "249820  [0.0, 327.134117236667, 0.0, 0.0, 0.0, 777.265...   829020.0   99.30  \n",
       "\n",
       "[249821 rows x 13 columns]"
      ]
     },
     "execution_count": 1,
     "metadata": {},
     "output_type": "execute_result"
    }
   ],
   "source": [
    "## 读取数据\n",
    "import pickle\n",
    "import pandas as pd\n",
    "file_name = r\"C:\\Users\\deep\\Desktop\\PepMTL\\fine_tune_data\\Modeling_data.pkl\"\n",
    "with open(file_name, 'rb') as f:\n",
    "   Data = pickle.load(f)\n",
    "pd.set_option('display.max_columns', None)\n",
    "Data"
   ]
  },
  {
   "cell_type": "code",
   "execution_count": 2,
   "id": "5a188cf9-f426-4c15-b117-40e037db3b57",
   "metadata": {},
   "outputs": [
    {
     "data": {
      "text/plain": [
       "Index(['Modified sequence', 'Charge', 'Length', 'Fragmentation', 'm/z', 'Mass',\n",
       "       'Retention time', 'CCS', 'norm_RT', 'norm_CCS', 'Matches',\n",
       "       'Intensities', 'Masses', 'Intensity', 'Score'],\n",
       "      dtype='object')"
      ]
     },
     "execution_count": 2,
     "metadata": {},
     "output_type": "execute_result"
    }
   ],
   "source": [
    "##将RT以及CCS值规范化到[0,1]之间\n",
    "from sklearn.preprocessing import MinMaxScaler\n",
    "import numpy as np\n",
    "RT = Data['Retention time']\n",
    "scaler_RT = MinMaxScaler(feature_range=(0, 1))\n",
    "Norm_RT = scaler_RT.fit_transform(np.array(RT).reshape(-1, 1)).round(4)\n",
    "CCS = Data['CCS']\n",
    "scaler_CCS = MinMaxScaler(feature_range=(0, 1))\n",
    "Norm_CCS = scaler_CCS.fit_transform(np.array(CCS).reshape(-1, 1)).round(4)\n",
    "\n",
    "##将规范化后的RT放入到dataframe中\n",
    "Data.insert(8, 'norm_RT', Norm_RT)\n",
    "Data.insert(9, 'norm_CCS', Norm_CCS)\n",
    "Data.keys()"
   ]
  },
  {
   "cell_type": "code",
   "execution_count": 3,
   "id": "8e5db64e-572b-4339-ae0d-b3e69f4fae61",
   "metadata": {},
   "outputs": [
    {
     "name": "stdout",
     "output_type": "stream",
     "text": [
      "['AAAAAAAAAAAAAAAGAGAGAK'\n",
      " 'AAAAAAAAAAAATGTEAGPGTAGGSENGSEVAAQPAGLSGPAEVGPGAVGER'\n",
      " 'AAAAAAAAAAAATGTEAGPGTAGGSENGSEVAAQPAGLSGPAEVGPGAVGER' 'AAAAAAAAAAGAAGGR'\n",
      " '[1]AAAAAAAAAAGAAGGR' '[1]AAAAAAAAAAGAAGGR'\n",
      " 'AAAAAAAAAPAAAATAPTTAATTAATAAQ' 'AAAAAAAAAPAAAATAPTTAATTAATAAQ'\n",
      " 'AAAAAAAAAVSR' 'AAAAAAAAGAFAGR']\n",
      "[11. 14. 14.  4. 12. 12. 12. 12.  4.  7.]\n"
     ]
    }
   ],
   "source": [
    "# 将datafarame转换为ndarray\n",
    "train_x = Data['Modified sequence'].values\n",
    "train_y = round(Data['norm_RT']*20).values\n",
    "print(train_x[:10])\n",
    "print(train_y[:10])"
   ]
  },
  {
   "cell_type": "code",
   "execution_count": 4,
   "id": "dd178fe6-8917-4ec3-9a89-cf1e82c330eb",
   "metadata": {},
   "outputs": [
    {
     "name": "stdout",
     "output_type": "stream",
     "text": [
      "[11 14 14  4 12 12 12 12  4  7 16  9  9  9  9 18 16 16 16 16 16  4  4 16\n",
      " 16 16 16 16 10  9 16 16  6  6  5 18 10 10 10  2 17 17 17  4  6  6  6 10\n",
      "  6  6  6  7  7 18 13 13 15 15 15 15 15  6  6  6  6 11 18 18 18 18 18 18\n",
      " 18 18 18 18 18  4 14 18  9  9  7  7  7 18 18  1  7  7  7  5  5  5 12 12\n",
      " 12 12 12 12]\n"
     ]
    }
   ],
   "source": [
    "## perform label enconding on the labels\n",
    "from sklearn.preprocessing import LabelEncoder\n",
    "encoder = LabelEncoder()\n",
    "encoder.fit(train_y)\n",
    "train_y = encoder.transform(train_y)\n",
    "print(train_y[:100])"
   ]
  },
  {
   "cell_type": "code",
   "execution_count": 5,
   "id": "bb271b3f-440c-4645-ac8a-527baa3b166d",
   "metadata": {},
   "outputs": [],
   "source": [
    "# 导入所有需要使用到的工作包\n",
    "import numpy as np\n",
    "import torch\n",
    "\n",
    "from sklearn.pipeline import Pipeline\n",
    "\n",
    "from skorch import NeuralNetClassifier\n",
    "from skorch.callbacks import LRScheduler, ProgressBar\n",
    "from skorch.hf import HuggingfacePretrainedTokenizer\n",
    "from skorch.hf import AccelerateMixin\n",
    "from skorch.callbacks import EpochScoring\n",
    "\n",
    "from accelerate import Accelerator\n",
    "\n",
    "from torch import nn\n",
    "from torch.optim.lr_scheduler import LambdaLR\n",
    "\n",
    "from transformers import AutoModelForSequenceClassification\n",
    "from transformers import AutoTokenizer, AutoConfig, EsmModel,EsmForMaskedLM\n",
    "\n",
    "import cleanlab"
   ]
  },
  {
   "cell_type": "code",
   "execution_count": 6,
   "id": "42d6fe0b-b73b-4dda-8f61-a68fc0660d05",
   "metadata": {},
   "outputs": [
    {
     "name": "stdout",
     "output_type": "stream",
     "text": [
      "C:\\Users\\deep\\Desktop\\PepMTL\n"
     ]
    }
   ],
   "source": [
    "cd C:\\Users\\deep\\Desktop\\PepMTL"
   ]
  },
  {
   "cell_type": "code",
   "execution_count": 7,
   "id": "c8c43235-21a7-4398-a251-36f72ffea63e",
   "metadata": {},
   "outputs": [
    {
     "name": "stdout",
     "output_type": "stream",
     "text": [
      "9760\n"
     ]
    }
   ],
   "source": [
    "# 输入构建模型以及训练模型所需要的参数\n",
    "##分词器\n",
    "TOKENIZER = \"./pretrain_models/Cleanlab_esm\"      ##   \"./pretrain_models/esm2_t6_8M_UR50D_fp16_cosine\"\n",
    "##加载预训练模型的名称\n",
    "PRETRAINED_MODEL = \"./pretrain_models/Cleanlab_esm\"      ## \"./pretrain_models/Cleanlab_esm\" \n",
    "\n",
    "# 模型训练过程中hyper-parameters的设置\n",
    "OPTMIZER = torch.optim.AdamW\n",
    "LR = 1e-4       ## 5e-5\n",
    "MAX_EPOCHS = 10\n",
    "\n",
    "CRITERION = nn.CrossEntropyLoss\n",
    "BATCH_SIZE = 256\n",
    "\n",
    "##忽略加载MLM模型时的警告信息\n",
    "from transformers import logging\n",
    "logging.set_verbosity_error()\n",
    "\n",
    "# device\n",
    "DEVICE = 'cuda' if torch.cuda.is_available() else 'cpu'\n",
    "\n",
    "num_training_steps = MAX_EPOCHS * (len(train_x) // BATCH_SIZE + 1)\n",
    "print(num_training_steps)"
   ]
  },
  {
   "cell_type": "code",
   "execution_count": 8,
   "id": "d882a6c3-634e-4490-9dd4-83c0d05f1073",
   "metadata": {},
   "outputs": [],
   "source": [
    "# Defining learning rate scheduler\n",
    "## 通过lr_schedule进行学习率衰减\n",
    "def lr_schedule(current_step):\n",
    "    factor = float(num_training_steps - current_step) / float(max(1, num_training_steps))\n",
    "    assert factor > 0\n",
    "    return factor"
   ]
  },
  {
   "cell_type": "code",
   "execution_count": 9,
   "id": "4f0bf893-1410-4462-8efa-8f1b560a322a",
   "metadata": {},
   "outputs": [],
   "source": [
    "# Defining Ordinal classification model in nn.Module\n",
    "class Classification_Module(nn.Module):\n",
    "    def __init__(self, name, num_labels):\n",
    "        super().__init__()\n",
    "        self.name = name\n",
    "        self.num_labels = num_labels\n",
    "        self.reset_weights()\n",
    "        \n",
    "    def reset_weights(self):\n",
    "        print('Ordinal classification model constructed by Cleanlab_esm')\n",
    "        self.config = AutoConfig.from_pretrained(self.name, hidden_dropout_prob=0.1, num_labels=self.num_labels)\n",
    "        self.model = AutoModelForSequenceClassification.from_pretrained(self.name, config=self.config)\n",
    "        \n",
    "    def forward(self, **kwargs):\n",
    "        SCO = self.model(**kwargs) ##SequenceClassifierOutput\n",
    "        pred = SCO.logits          ##输出y预测结果\n",
    "        return pred"
   ]
  },
  {
   "cell_type": "code",
   "execution_count": 10,
   "id": "76adbd3f-150d-4461-931a-49506e933670",
   "metadata": {},
   "outputs": [],
   "source": [
    "### Chaining tokenizer and classification model in one pipeline with automatic mixed precision (AMP) training\n",
    "## 与常规精度相比，混合精度训练时间降低40%左右\n",
    "\n",
    "class AcceleratedNet(AccelerateMixin, NeuralNetClassifier):\n",
    "    \"\"\"NeuralNetClassifier with accelerate support\"\"\"\n",
    "accelerator = Accelerator(mixed_precision='fp16')\n",
    "\n",
    "pipeline = Pipeline([\n",
    "    ('tokenizer', HuggingfacePretrainedTokenizer(TOKENIZER)),\n",
    "    ('net', AcceleratedNet(                   # <= changed\n",
    "        Classification_Module,\n",
    "        accelerator=accelerator,              # <= changed\n",
    "        module__name=PRETRAINED_MODEL,\n",
    "        module__num_labels=len(set(train_y)),\n",
    "        optimizer=OPTMIZER,\n",
    "        lr=LR,\n",
    "        max_epochs=MAX_EPOCHS,\n",
    "        criterion=CRITERION,\n",
    "        batch_size=BATCH_SIZE,\n",
    "        iterator_train__shuffle=True,\n",
    "        # device=DEVICE,                      # <= changed\n",
    "        callbacks=[\n",
    "            LRScheduler(LambdaLR, lr_lambda=lr_schedule, step_every='batch'),\n",
    "            ProgressBar(),\n",
    "        ],\n",
    "    )),\n",
    "])\n",
    "\n",
    "torch.manual_seed(0)\n",
    "torch.cuda.manual_seed(0)\n",
    "torch.cuda.manual_seed_all(0)\n",
    "np.random.seed(0)"
   ]
  },
  {
   "cell_type": "code",
   "execution_count": 11,
   "id": "13a4cf03-d41d-496a-82b9-51bdc4df315c",
   "metadata": {},
   "outputs": [
    {
     "name": "stdout",
     "output_type": "stream",
     "text": [
      "Computing out of sample predicted probabilities via 10-fold cross validation. May take a while ...\n"
     ]
    },
    {
     "name": "stderr",
     "output_type": "stream",
     "text": [
      "C:\\Users\\deep\\miniconda3\\envs\\Bert\\lib\\site-packages\\sklearn\\model_selection\\_split.py:737: UserWarning: The least populated class in y has only 2 members, which is less than n_splits=10.\n",
      "  warnings.warn(\n"
     ]
    },
    {
     "name": "stdout",
     "output_type": "stream",
     "text": [
      "Ordinal classification model constructed by Cleanlab_esm\n"
     ]
    },
    {
     "name": "stderr",
     "output_type": "stream",
     "text": [
      "C:\\Users\\deep\\miniconda3\\envs\\Bert\\lib\\site-packages\\sklearn\\model_selection\\_split.py:737: UserWarning: The least populated class in y has only 1 members, which is less than n_splits=5.\n",
      "  warnings.warn(\n"
     ]
    },
    {
     "data": {
      "application/vnd.jupyter.widget-view+json": {
       "model_id": "",
       "version_major": 2,
       "version_minor": 0
      },
      "text/plain": [
       "  0%|          | 0/879 [00:00<?, ?it/s]"
      ]
     },
     "metadata": {},
     "output_type": "display_data"
    },
    {
     "name": "stdout",
     "output_type": "stream",
     "text": [
      "  epoch    train_loss    valid_acc    valid_loss      dur\n",
      "-------  ------------  -----------  ------------  -------\n",
      "      1        \u001b[36m1.5274\u001b[0m       \u001b[32m0.4531\u001b[0m        \u001b[35m1.3343\u001b[0m  95.0950\n"
     ]
    },
    {
     "data": {
      "application/vnd.jupyter.widget-view+json": {
       "model_id": "",
       "version_major": 2,
       "version_minor": 0
      },
      "text/plain": [
       "  0%|          | 0/879 [00:00<?, ?it/s]"
      ]
     },
     "metadata": {},
     "output_type": "display_data"
    },
    {
     "name": "stdout",
     "output_type": "stream",
     "text": [
      "      2        \u001b[36m1.1723\u001b[0m       \u001b[32m0.4969\u001b[0m        \u001b[35m1.1970\u001b[0m  93.6849\n"
     ]
    },
    {
     "data": {
      "application/vnd.jupyter.widget-view+json": {
       "model_id": "",
       "version_major": 2,
       "version_minor": 0
      },
      "text/plain": [
       "  0%|          | 0/879 [00:00<?, ?it/s]"
      ]
     },
     "metadata": {},
     "output_type": "display_data"
    },
    {
     "name": "stdout",
     "output_type": "stream",
     "text": [
      "      3        \u001b[36m1.0719\u001b[0m       \u001b[32m0.4969\u001b[0m        \u001b[35m1.1921\u001b[0m  93.8637\n"
     ]
    },
    {
     "data": {
      "application/vnd.jupyter.widget-view+json": {
       "model_id": "",
       "version_major": 2,
       "version_minor": 0
      },
      "text/plain": [
       "  0%|          | 0/879 [00:00<?, ?it/s]"
      ]
     },
     "metadata": {},
     "output_type": "display_data"
    },
    {
     "name": "stdout",
     "output_type": "stream",
     "text": [
      "      4        \u001b[36m0.9992\u001b[0m       \u001b[32m0.5386\u001b[0m        \u001b[35m1.0874\u001b[0m  93.8351\n"
     ]
    },
    {
     "data": {
      "application/vnd.jupyter.widget-view+json": {
       "model_id": "",
       "version_major": 2,
       "version_minor": 0
      },
      "text/plain": [
       "  0%|          | 0/879 [00:00<?, ?it/s]"
      ]
     },
     "metadata": {},
     "output_type": "display_data"
    },
    {
     "name": "stdout",
     "output_type": "stream",
     "text": [
      "      5        \u001b[36m0.9437\u001b[0m       \u001b[32m0.5649\u001b[0m        \u001b[35m1.0450\u001b[0m  93.9541\n"
     ]
    },
    {
     "data": {
      "application/vnd.jupyter.widget-view+json": {
       "model_id": "",
       "version_major": 2,
       "version_minor": 0
      },
      "text/plain": [
       "  0%|          | 0/879 [00:00<?, ?it/s]"
      ]
     },
     "metadata": {},
     "output_type": "display_data"
    },
    {
     "name": "stdout",
     "output_type": "stream",
     "text": [
      "      6        \u001b[36m0.8958\u001b[0m       0.5527        1.0692  94.0193\n"
     ]
    },
    {
     "data": {
      "application/vnd.jupyter.widget-view+json": {
       "model_id": "",
       "version_major": 2,
       "version_minor": 0
      },
      "text/plain": [
       "  0%|          | 0/879 [00:00<?, ?it/s]"
      ]
     },
     "metadata": {},
     "output_type": "display_data"
    },
    {
     "name": "stdout",
     "output_type": "stream",
     "text": [
      "      7        \u001b[36m0.8526\u001b[0m       \u001b[32m0.5754\u001b[0m        \u001b[35m1.0156\u001b[0m  94.0407\n"
     ]
    },
    {
     "data": {
      "application/vnd.jupyter.widget-view+json": {
       "model_id": "",
       "version_major": 2,
       "version_minor": 0
      },
      "text/plain": [
       "  0%|          | 0/879 [00:00<?, ?it/s]"
      ]
     },
     "metadata": {},
     "output_type": "display_data"
    },
    {
     "name": "stdout",
     "output_type": "stream",
     "text": [
      "      8        \u001b[36m0.8123\u001b[0m       \u001b[32m0.5874\u001b[0m        1.0175  94.1427\n"
     ]
    },
    {
     "data": {
      "application/vnd.jupyter.widget-view+json": {
       "model_id": "",
       "version_major": 2,
       "version_minor": 0
      },
      "text/plain": [
       "  0%|          | 0/879 [00:00<?, ?it/s]"
      ]
     },
     "metadata": {},
     "output_type": "display_data"
    },
    {
     "name": "stdout",
     "output_type": "stream",
     "text": [
      "      9        \u001b[36m0.7810\u001b[0m       \u001b[32m0.5889\u001b[0m        \u001b[35m1.0003\u001b[0m  94.0780\n"
     ]
    },
    {
     "data": {
      "application/vnd.jupyter.widget-view+json": {
       "model_id": "",
       "version_major": 2,
       "version_minor": 0
      },
      "text/plain": [
       "  0%|          | 0/879 [00:00<?, ?it/s]"
      ]
     },
     "metadata": {},
     "output_type": "display_data"
    },
    {
     "name": "stdout",
     "output_type": "stream",
     "text": [
      "     10        \u001b[36m0.7456\u001b[0m       0.5840        1.0248  93.9726\n",
      "Ordinal classification model constructed by Cleanlab_esm\n"
     ]
    },
    {
     "name": "stderr",
     "output_type": "stream",
     "text": [
      "C:\\Users\\deep\\miniconda3\\envs\\Bert\\lib\\site-packages\\sklearn\\model_selection\\_split.py:737: UserWarning: The least populated class in y has only 2 members, which is less than n_splits=5.\n",
      "  warnings.warn(\n"
     ]
    },
    {
     "data": {
      "application/vnd.jupyter.widget-view+json": {
       "model_id": "",
       "version_major": 2,
       "version_minor": 0
      },
      "text/plain": [
       "  0%|          | 0/879 [00:00<?, ?it/s]"
      ]
     },
     "metadata": {},
     "output_type": "display_data"
    },
    {
     "name": "stdout",
     "output_type": "stream",
     "text": [
      "  epoch    train_loss    valid_acc    valid_loss      dur\n",
      "-------  ------------  -----------  ------------  -------\n",
      "      1        \u001b[36m1.5266\u001b[0m       \u001b[32m0.4463\u001b[0m        \u001b[35m1.3380\u001b[0m  93.9845\n"
     ]
    },
    {
     "data": {
      "application/vnd.jupyter.widget-view+json": {
       "model_id": "",
       "version_major": 2,
       "version_minor": 0
      },
      "text/plain": [
       "  0%|          | 0/879 [00:00<?, ?it/s]"
      ]
     },
     "metadata": {},
     "output_type": "display_data"
    },
    {
     "name": "stdout",
     "output_type": "stream",
     "text": [
      "      2        \u001b[36m1.1537\u001b[0m       \u001b[32m0.4924\u001b[0m        \u001b[35m1.2017\u001b[0m  94.0159\n"
     ]
    },
    {
     "data": {
      "application/vnd.jupyter.widget-view+json": {
       "model_id": "",
       "version_major": 2,
       "version_minor": 0
      },
      "text/plain": [
       "  0%|          | 0/879 [00:00<?, ?it/s]"
      ]
     },
     "metadata": {},
     "output_type": "display_data"
    },
    {
     "name": "stdout",
     "output_type": "stream",
     "text": [
      "      3        \u001b[36m1.0522\u001b[0m       \u001b[32m0.5113\u001b[0m        \u001b[35m1.1619\u001b[0m  93.9768\n"
     ]
    },
    {
     "data": {
      "application/vnd.jupyter.widget-view+json": {
       "model_id": "",
       "version_major": 2,
       "version_minor": 0
      },
      "text/plain": [
       "  0%|          | 0/879 [00:00<?, ?it/s]"
      ]
     },
     "metadata": {},
     "output_type": "display_data"
    },
    {
     "name": "stdout",
     "output_type": "stream",
     "text": [
      "      4        \u001b[36m0.9820\u001b[0m       \u001b[32m0.5402\u001b[0m        \u001b[35m1.0869\u001b[0m  93.6672\n"
     ]
    },
    {
     "data": {
      "application/vnd.jupyter.widget-view+json": {
       "model_id": "",
       "version_major": 2,
       "version_minor": 0
      },
      "text/plain": [
       "  0%|          | 0/879 [00:00<?, ?it/s]"
      ]
     },
     "metadata": {},
     "output_type": "display_data"
    },
    {
     "name": "stdout",
     "output_type": "stream",
     "text": [
      "      5        \u001b[36m0.9255\u001b[0m       0.5356        1.0953  93.7184\n"
     ]
    },
    {
     "data": {
      "application/vnd.jupyter.widget-view+json": {
       "model_id": "",
       "version_major": 2,
       "version_minor": 0
      },
      "text/plain": [
       "  0%|          | 0/879 [00:00<?, ?it/s]"
      ]
     },
     "metadata": {},
     "output_type": "display_data"
    },
    {
     "name": "stdout",
     "output_type": "stream",
     "text": [
      "      6        \u001b[36m0.8835\u001b[0m       \u001b[32m0.5459\u001b[0m        \u001b[35m1.0688\u001b[0m  93.7908\n"
     ]
    },
    {
     "data": {
      "application/vnd.jupyter.widget-view+json": {
       "model_id": "",
       "version_major": 2,
       "version_minor": 0
      },
      "text/plain": [
       "  0%|          | 0/879 [00:00<?, ?it/s]"
      ]
     },
     "metadata": {},
     "output_type": "display_data"
    },
    {
     "name": "stdout",
     "output_type": "stream",
     "text": [
      "      7        \u001b[36m0.8446\u001b[0m       \u001b[32m0.5534\u001b[0m        \u001b[35m1.0622\u001b[0m  93.6064\n"
     ]
    },
    {
     "data": {
      "application/vnd.jupyter.widget-view+json": {
       "model_id": "",
       "version_major": 2,
       "version_minor": 0
      },
      "text/plain": [
       "  0%|          | 0/879 [00:00<?, ?it/s]"
      ]
     },
     "metadata": {},
     "output_type": "display_data"
    },
    {
     "name": "stdout",
     "output_type": "stream",
     "text": [
      "      8        \u001b[36m0.8127\u001b[0m       \u001b[32m0.5624\u001b[0m        \u001b[35m1.0395\u001b[0m  93.6583\n"
     ]
    },
    {
     "data": {
      "application/vnd.jupyter.widget-view+json": {
       "model_id": "",
       "version_major": 2,
       "version_minor": 0
      },
      "text/plain": [
       "  0%|          | 0/879 [00:00<?, ?it/s]"
      ]
     },
     "metadata": {},
     "output_type": "display_data"
    },
    {
     "name": "stdout",
     "output_type": "stream",
     "text": [
      "      9        \u001b[36m0.7785\u001b[0m       \u001b[32m0.5660\u001b[0m        1.0661  93.7235\n"
     ]
    },
    {
     "data": {
      "application/vnd.jupyter.widget-view+json": {
       "model_id": "",
       "version_major": 2,
       "version_minor": 0
      },
      "text/plain": [
       "  0%|          | 0/879 [00:00<?, ?it/s]"
      ]
     },
     "metadata": {},
     "output_type": "display_data"
    },
    {
     "name": "stdout",
     "output_type": "stream",
     "text": [
      "     10        \u001b[36m0.7501\u001b[0m       0.5576        1.0773  93.7746\n",
      "Ordinal classification model constructed by Cleanlab_esm\n"
     ]
    },
    {
     "name": "stderr",
     "output_type": "stream",
     "text": [
      "C:\\Users\\deep\\miniconda3\\envs\\Bert\\lib\\site-packages\\sklearn\\model_selection\\_split.py:737: UserWarning: The least populated class in y has only 2 members, which is less than n_splits=5.\n",
      "  warnings.warn(\n"
     ]
    },
    {
     "data": {
      "application/vnd.jupyter.widget-view+json": {
       "model_id": "",
       "version_major": 2,
       "version_minor": 0
      },
      "text/plain": [
       "  0%|          | 0/879 [00:00<?, ?it/s]"
      ]
     },
     "metadata": {},
     "output_type": "display_data"
    },
    {
     "name": "stdout",
     "output_type": "stream",
     "text": [
      "  epoch    train_loss    valid_acc    valid_loss      dur\n",
      "-------  ------------  -----------  ------------  -------\n",
      "      1        \u001b[36m1.5238\u001b[0m       \u001b[32m0.4626\u001b[0m        \u001b[35m1.2852\u001b[0m  93.8105\n"
     ]
    },
    {
     "data": {
      "application/vnd.jupyter.widget-view+json": {
       "model_id": "",
       "version_major": 2,
       "version_minor": 0
      },
      "text/plain": [
       "  0%|          | 0/879 [00:00<?, ?it/s]"
      ]
     },
     "metadata": {},
     "output_type": "display_data"
    },
    {
     "name": "stdout",
     "output_type": "stream",
     "text": [
      "      2        \u001b[36m1.1722\u001b[0m       \u001b[32m0.5013\u001b[0m        \u001b[35m1.1802\u001b[0m  93.6062\n"
     ]
    },
    {
     "data": {
      "application/vnd.jupyter.widget-view+json": {
       "model_id": "",
       "version_major": 2,
       "version_minor": 0
      },
      "text/plain": [
       "  0%|          | 0/879 [00:00<?, ?it/s]"
      ]
     },
     "metadata": {},
     "output_type": "display_data"
    },
    {
     "name": "stdout",
     "output_type": "stream",
     "text": [
      "      3        \u001b[36m1.0663\u001b[0m       0.4800        1.2349  93.6579\n"
     ]
    },
    {
     "data": {
      "application/vnd.jupyter.widget-view+json": {
       "model_id": "",
       "version_major": 2,
       "version_minor": 0
      },
      "text/plain": [
       "  0%|          | 0/879 [00:00<?, ?it/s]"
      ]
     },
     "metadata": {},
     "output_type": "display_data"
    },
    {
     "name": "stdout",
     "output_type": "stream",
     "text": [
      "      4        \u001b[36m1.0011\u001b[0m       \u001b[32m0.5297\u001b[0m        \u001b[35m1.1156\u001b[0m  93.7802\n"
     ]
    },
    {
     "data": {
      "application/vnd.jupyter.widget-view+json": {
       "model_id": "",
       "version_major": 2,
       "version_minor": 0
      },
      "text/plain": [
       "  0%|          | 0/879 [00:00<?, ?it/s]"
      ]
     },
     "metadata": {},
     "output_type": "display_data"
    },
    {
     "name": "stdout",
     "output_type": "stream",
     "text": [
      "      5        \u001b[36m0.9482\u001b[0m       \u001b[32m0.5491\u001b[0m        \u001b[35m1.0639\u001b[0m  93.6727\n"
     ]
    },
    {
     "data": {
      "application/vnd.jupyter.widget-view+json": {
       "model_id": "",
       "version_major": 2,
       "version_minor": 0
      },
      "text/plain": [
       "  0%|          | 0/879 [00:00<?, ?it/s]"
      ]
     },
     "metadata": {},
     "output_type": "display_data"
    },
    {
     "name": "stdout",
     "output_type": "stream",
     "text": [
      "      6        \u001b[36m0.9017\u001b[0m       0.5450        1.0953  93.6922\n"
     ]
    },
    {
     "data": {
      "application/vnd.jupyter.widget-view+json": {
       "model_id": "",
       "version_major": 2,
       "version_minor": 0
      },
      "text/plain": [
       "  0%|          | 0/879 [00:00<?, ?it/s]"
      ]
     },
     "metadata": {},
     "output_type": "display_data"
    },
    {
     "name": "stdout",
     "output_type": "stream",
     "text": [
      "      7        \u001b[36m0.8625\u001b[0m       0.5342        1.1372  93.7186\n"
     ]
    },
    {
     "data": {
      "application/vnd.jupyter.widget-view+json": {
       "model_id": "",
       "version_major": 2,
       "version_minor": 0
      },
      "text/plain": [
       "  0%|          | 0/879 [00:00<?, ?it/s]"
      ]
     },
     "metadata": {},
     "output_type": "display_data"
    },
    {
     "name": "stdout",
     "output_type": "stream",
     "text": [
      "      8        \u001b[36m0.8373\u001b[0m       \u001b[32m0.5658\u001b[0m        \u001b[35m1.0449\u001b[0m  93.7462\n"
     ]
    },
    {
     "data": {
      "application/vnd.jupyter.widget-view+json": {
       "model_id": "",
       "version_major": 2,
       "version_minor": 0
      },
      "text/plain": [
       "  0%|          | 0/879 [00:00<?, ?it/s]"
      ]
     },
     "metadata": {},
     "output_type": "display_data"
    },
    {
     "name": "stdout",
     "output_type": "stream",
     "text": [
      "      9        \u001b[36m0.7997\u001b[0m       0.5567        1.0859  93.5762\n"
     ]
    },
    {
     "data": {
      "application/vnd.jupyter.widget-view+json": {
       "model_id": "",
       "version_major": 2,
       "version_minor": 0
      },
      "text/plain": [
       "  0%|          | 0/879 [00:00<?, ?it/s]"
      ]
     },
     "metadata": {},
     "output_type": "display_data"
    },
    {
     "name": "stdout",
     "output_type": "stream",
     "text": [
      "     10        \u001b[36m0.7703\u001b[0m       0.5631        1.0749  93.6818\n",
      "Ordinal classification model constructed by Cleanlab_esm\n"
     ]
    },
    {
     "name": "stderr",
     "output_type": "stream",
     "text": [
      "C:\\Users\\deep\\miniconda3\\envs\\Bert\\lib\\site-packages\\sklearn\\model_selection\\_split.py:737: UserWarning: The least populated class in y has only 2 members, which is less than n_splits=5.\n",
      "  warnings.warn(\n"
     ]
    },
    {
     "data": {
      "application/vnd.jupyter.widget-view+json": {
       "model_id": "",
       "version_major": 2,
       "version_minor": 0
      },
      "text/plain": [
       "  0%|          | 0/879 [00:00<?, ?it/s]"
      ]
     },
     "metadata": {},
     "output_type": "display_data"
    },
    {
     "name": "stdout",
     "output_type": "stream",
     "text": [
      "  epoch    train_loss    valid_acc    valid_loss      dur\n",
      "-------  ------------  -----------  ------------  -------\n",
      "      1        \u001b[36m1.5177\u001b[0m       \u001b[32m0.3899\u001b[0m        \u001b[35m1.4590\u001b[0m  93.9398\n"
     ]
    },
    {
     "data": {
      "application/vnd.jupyter.widget-view+json": {
       "model_id": "",
       "version_major": 2,
       "version_minor": 0
      },
      "text/plain": [
       "  0%|          | 0/879 [00:00<?, ?it/s]"
      ]
     },
     "metadata": {},
     "output_type": "display_data"
    },
    {
     "name": "stdout",
     "output_type": "stream",
     "text": [
      "      2        \u001b[36m1.1507\u001b[0m       \u001b[32m0.4694\u001b[0m        \u001b[35m1.2611\u001b[0m  93.6614\n"
     ]
    },
    {
     "data": {
      "application/vnd.jupyter.widget-view+json": {
       "model_id": "",
       "version_major": 2,
       "version_minor": 0
      },
      "text/plain": [
       "  0%|          | 0/879 [00:00<?, ?it/s]"
      ]
     },
     "metadata": {},
     "output_type": "display_data"
    },
    {
     "name": "stdout",
     "output_type": "stream",
     "text": [
      "      3        \u001b[36m1.0436\u001b[0m       \u001b[32m0.5193\u001b[0m        \u001b[35m1.1396\u001b[0m  93.6120\n"
     ]
    },
    {
     "data": {
      "application/vnd.jupyter.widget-view+json": {
       "model_id": "",
       "version_major": 2,
       "version_minor": 0
      },
      "text/plain": [
       "  0%|          | 0/879 [00:00<?, ?it/s]"
      ]
     },
     "metadata": {},
     "output_type": "display_data"
    },
    {
     "name": "stdout",
     "output_type": "stream",
     "text": [
      "      4        \u001b[36m0.9787\u001b[0m       0.5190        1.1510  93.8165\n"
     ]
    },
    {
     "data": {
      "application/vnd.jupyter.widget-view+json": {
       "model_id": "",
       "version_major": 2,
       "version_minor": 0
      },
      "text/plain": [
       "  0%|          | 0/879 [00:00<?, ?it/s]"
      ]
     },
     "metadata": {},
     "output_type": "display_data"
    },
    {
     "name": "stdout",
     "output_type": "stream",
     "text": [
      "      5        \u001b[36m0.9230\u001b[0m       \u001b[32m0.5471\u001b[0m        \u001b[35m1.0780\u001b[0m  93.8141\n"
     ]
    },
    {
     "data": {
      "application/vnd.jupyter.widget-view+json": {
       "model_id": "",
       "version_major": 2,
       "version_minor": 0
      },
      "text/plain": [
       "  0%|          | 0/879 [00:00<?, ?it/s]"
      ]
     },
     "metadata": {},
     "output_type": "display_data"
    },
    {
     "name": "stdout",
     "output_type": "stream",
     "text": [
      "      6        \u001b[36m0.8806\u001b[0m       \u001b[32m0.5542\u001b[0m        \u001b[35m1.0586\u001b[0m  93.6327\n"
     ]
    },
    {
     "data": {
      "application/vnd.jupyter.widget-view+json": {
       "model_id": "",
       "version_major": 2,
       "version_minor": 0
      },
      "text/plain": [
       "  0%|          | 0/879 [00:00<?, ?it/s]"
      ]
     },
     "metadata": {},
     "output_type": "display_data"
    },
    {
     "name": "stdout",
     "output_type": "stream",
     "text": [
      "      7        \u001b[36m0.8366\u001b[0m       0.5519        1.0767  93.6018\n"
     ]
    },
    {
     "data": {
      "application/vnd.jupyter.widget-view+json": {
       "model_id": "",
       "version_major": 2,
       "version_minor": 0
      },
      "text/plain": [
       "  0%|          | 0/879 [00:00<?, ?it/s]"
      ]
     },
     "metadata": {},
     "output_type": "display_data"
    },
    {
     "name": "stdout",
     "output_type": "stream",
     "text": [
      "      8        \u001b[36m0.8001\u001b[0m       \u001b[32m0.5572\u001b[0m        1.0645  93.8104\n"
     ]
    },
    {
     "data": {
      "application/vnd.jupyter.widget-view+json": {
       "model_id": "",
       "version_major": 2,
       "version_minor": 0
      },
      "text/plain": [
       "  0%|          | 0/879 [00:00<?, ?it/s]"
      ]
     },
     "metadata": {},
     "output_type": "display_data"
    },
    {
     "name": "stdout",
     "output_type": "stream",
     "text": [
      "      9        \u001b[36m0.7625\u001b[0m       \u001b[32m0.5625\u001b[0m        1.0676  93.8224\n"
     ]
    },
    {
     "data": {
      "application/vnd.jupyter.widget-view+json": {
       "model_id": "",
       "version_major": 2,
       "version_minor": 0
      },
      "text/plain": [
       "  0%|          | 0/879 [00:00<?, ?it/s]"
      ]
     },
     "metadata": {},
     "output_type": "display_data"
    },
    {
     "name": "stdout",
     "output_type": "stream",
     "text": [
      "     10        \u001b[36m0.7305\u001b[0m       \u001b[32m0.5625\u001b[0m        1.0689  93.6876\n",
      "Ordinal classification model constructed by Cleanlab_esm\n"
     ]
    },
    {
     "name": "stderr",
     "output_type": "stream",
     "text": [
      "C:\\Users\\deep\\miniconda3\\envs\\Bert\\lib\\site-packages\\sklearn\\model_selection\\_split.py:737: UserWarning: The least populated class in y has only 2 members, which is less than n_splits=5.\n",
      "  warnings.warn(\n"
     ]
    },
    {
     "data": {
      "application/vnd.jupyter.widget-view+json": {
       "model_id": "",
       "version_major": 2,
       "version_minor": 0
      },
      "text/plain": [
       "  0%|          | 0/879 [00:00<?, ?it/s]"
      ]
     },
     "metadata": {},
     "output_type": "display_data"
    },
    {
     "name": "stdout",
     "output_type": "stream",
     "text": [
      "  epoch    train_loss    valid_acc    valid_loss      dur\n",
      "-------  ------------  -----------  ------------  -------\n",
      "      1        \u001b[36m1.5349\u001b[0m       \u001b[32m0.4637\u001b[0m        \u001b[35m1.2760\u001b[0m  93.8175\n"
     ]
    },
    {
     "data": {
      "application/vnd.jupyter.widget-view+json": {
       "model_id": "",
       "version_major": 2,
       "version_minor": 0
      },
      "text/plain": [
       "  0%|          | 0/879 [00:00<?, ?it/s]"
      ]
     },
     "metadata": {},
     "output_type": "display_data"
    },
    {
     "name": "stdout",
     "output_type": "stream",
     "text": [
      "      2        \u001b[36m1.1583\u001b[0m       \u001b[32m0.5023\u001b[0m        \u001b[35m1.1783\u001b[0m  93.7123\n"
     ]
    },
    {
     "data": {
      "application/vnd.jupyter.widget-view+json": {
       "model_id": "",
       "version_major": 2,
       "version_minor": 0
      },
      "text/plain": [
       "  0%|          | 0/879 [00:00<?, ?it/s]"
      ]
     },
     "metadata": {},
     "output_type": "display_data"
    },
    {
     "name": "stdout",
     "output_type": "stream",
     "text": [
      "      3        \u001b[36m1.0616\u001b[0m       0.4968        1.1948  93.7154\n"
     ]
    },
    {
     "data": {
      "application/vnd.jupyter.widget-view+json": {
       "model_id": "",
       "version_major": 2,
       "version_minor": 0
      },
      "text/plain": [
       "  0%|          | 0/879 [00:00<?, ?it/s]"
      ]
     },
     "metadata": {},
     "output_type": "display_data"
    },
    {
     "name": "stdout",
     "output_type": "stream",
     "text": [
      "      4        \u001b[36m0.9992\u001b[0m       \u001b[32m0.5186\u001b[0m        \u001b[35m1.1327\u001b[0m  93.7037\n"
     ]
    },
    {
     "data": {
      "application/vnd.jupyter.widget-view+json": {
       "model_id": "",
       "version_major": 2,
       "version_minor": 0
      },
      "text/plain": [
       "  0%|          | 0/879 [00:00<?, ?it/s]"
      ]
     },
     "metadata": {},
     "output_type": "display_data"
    },
    {
     "name": "stdout",
     "output_type": "stream",
     "text": [
      "      5        \u001b[36m0.9518\u001b[0m       \u001b[32m0.5469\u001b[0m        \u001b[35m1.0760\u001b[0m  93.6847\n"
     ]
    },
    {
     "data": {
      "application/vnd.jupyter.widget-view+json": {
       "model_id": "",
       "version_major": 2,
       "version_minor": 0
      },
      "text/plain": [
       "  0%|          | 0/879 [00:00<?, ?it/s]"
      ]
     },
     "metadata": {},
     "output_type": "display_data"
    },
    {
     "name": "stdout",
     "output_type": "stream",
     "text": [
      "      6        \u001b[36m0.9090\u001b[0m       0.5071        1.1762  93.8180\n"
     ]
    },
    {
     "data": {
      "application/vnd.jupyter.widget-view+json": {
       "model_id": "",
       "version_major": 2,
       "version_minor": 0
      },
      "text/plain": [
       "  0%|          | 0/879 [00:00<?, ?it/s]"
      ]
     },
     "metadata": {},
     "output_type": "display_data"
    },
    {
     "name": "stdout",
     "output_type": "stream",
     "text": [
      "      7        \u001b[36m0.8684\u001b[0m       0.5432        1.0901  93.6981\n"
     ]
    },
    {
     "data": {
      "application/vnd.jupyter.widget-view+json": {
       "model_id": "",
       "version_major": 2,
       "version_minor": 0
      },
      "text/plain": [
       "  0%|          | 0/879 [00:00<?, ?it/s]"
      ]
     },
     "metadata": {},
     "output_type": "display_data"
    },
    {
     "name": "stdout",
     "output_type": "stream",
     "text": [
      "      8        \u001b[36m0.8351\u001b[0m       \u001b[32m0.5544\u001b[0m        \u001b[35m1.0594\u001b[0m  93.6304\n"
     ]
    },
    {
     "data": {
      "application/vnd.jupyter.widget-view+json": {
       "model_id": "",
       "version_major": 2,
       "version_minor": 0
      },
      "text/plain": [
       "  0%|          | 0/879 [00:00<?, ?it/s]"
      ]
     },
     "metadata": {},
     "output_type": "display_data"
    },
    {
     "name": "stdout",
     "output_type": "stream",
     "text": [
      "      9        \u001b[36m0.8016\u001b[0m       \u001b[32m0.5747\u001b[0m        \u001b[35m1.0205\u001b[0m  93.7048\n"
     ]
    },
    {
     "data": {
      "application/vnd.jupyter.widget-view+json": {
       "model_id": "",
       "version_major": 2,
       "version_minor": 0
      },
      "text/plain": [
       "  0%|          | 0/879 [00:00<?, ?it/s]"
      ]
     },
     "metadata": {},
     "output_type": "display_data"
    },
    {
     "name": "stdout",
     "output_type": "stream",
     "text": [
      "     10        \u001b[36m0.7717\u001b[0m       0.5612        1.0592  93.8264\n",
      "Ordinal classification model constructed by Cleanlab_esm\n"
     ]
    },
    {
     "name": "stderr",
     "output_type": "stream",
     "text": [
      "C:\\Users\\deep\\miniconda3\\envs\\Bert\\lib\\site-packages\\sklearn\\model_selection\\_split.py:737: UserWarning: The least populated class in y has only 2 members, which is less than n_splits=5.\n",
      "  warnings.warn(\n"
     ]
    },
    {
     "data": {
      "application/vnd.jupyter.widget-view+json": {
       "model_id": "",
       "version_major": 2,
       "version_minor": 0
      },
      "text/plain": [
       "  0%|          | 0/879 [00:00<?, ?it/s]"
      ]
     },
     "metadata": {},
     "output_type": "display_data"
    },
    {
     "name": "stdout",
     "output_type": "stream",
     "text": [
      "  epoch    train_loss    valid_acc    valid_loss      dur\n",
      "-------  ------------  -----------  ------------  -------\n",
      "      1        \u001b[36m1.5266\u001b[0m       \u001b[32m0.4386\u001b[0m        \u001b[35m1.3305\u001b[0m  93.6352\n"
     ]
    },
    {
     "data": {
      "application/vnd.jupyter.widget-view+json": {
       "model_id": "",
       "version_major": 2,
       "version_minor": 0
      },
      "text/plain": [
       "  0%|          | 0/879 [00:00<?, ?it/s]"
      ]
     },
     "metadata": {},
     "output_type": "display_data"
    },
    {
     "name": "stdout",
     "output_type": "stream",
     "text": [
      "      2        \u001b[36m1.1555\u001b[0m       \u001b[32m0.4958\u001b[0m        \u001b[35m1.1880\u001b[0m  93.6818\n"
     ]
    },
    {
     "data": {
      "application/vnd.jupyter.widget-view+json": {
       "model_id": "",
       "version_major": 2,
       "version_minor": 0
      },
      "text/plain": [
       "  0%|          | 0/879 [00:00<?, ?it/s]"
      ]
     },
     "metadata": {},
     "output_type": "display_data"
    },
    {
     "name": "stdout",
     "output_type": "stream",
     "text": [
      "      3        \u001b[36m1.0626\u001b[0m       0.4884        1.2121  93.6824\n"
     ]
    },
    {
     "data": {
      "application/vnd.jupyter.widget-view+json": {
       "model_id": "",
       "version_major": 2,
       "version_minor": 0
      },
      "text/plain": [
       "  0%|          | 0/879 [00:00<?, ?it/s]"
      ]
     },
     "metadata": {},
     "output_type": "display_data"
    },
    {
     "name": "stdout",
     "output_type": "stream",
     "text": [
      "      4        \u001b[36m0.9982\u001b[0m       \u001b[32m0.5393\u001b[0m        \u001b[35m1.0980\u001b[0m  93.7840\n"
     ]
    },
    {
     "data": {
      "application/vnd.jupyter.widget-view+json": {
       "model_id": "",
       "version_major": 2,
       "version_minor": 0
      },
      "text/plain": [
       "  0%|          | 0/879 [00:00<?, ?it/s]"
      ]
     },
     "metadata": {},
     "output_type": "display_data"
    },
    {
     "name": "stdout",
     "output_type": "stream",
     "text": [
      "      5        \u001b[36m0.9421\u001b[0m       0.5193        1.1482  93.7124\n"
     ]
    },
    {
     "data": {
      "application/vnd.jupyter.widget-view+json": {
       "model_id": "",
       "version_major": 2,
       "version_minor": 0
      },
      "text/plain": [
       "  0%|          | 0/879 [00:00<?, ?it/s]"
      ]
     },
     "metadata": {},
     "output_type": "display_data"
    },
    {
     "name": "stdout",
     "output_type": "stream",
     "text": [
      "      6        \u001b[36m0.9089\u001b[0m       \u001b[32m0.5461\u001b[0m        \u001b[35m1.0765\u001b[0m  93.7342\n"
     ]
    },
    {
     "data": {
      "application/vnd.jupyter.widget-view+json": {
       "model_id": "",
       "version_major": 2,
       "version_minor": 0
      },
      "text/plain": [
       "  0%|          | 0/879 [00:00<?, ?it/s]"
      ]
     },
     "metadata": {},
     "output_type": "display_data"
    },
    {
     "name": "stdout",
     "output_type": "stream",
     "text": [
      "      7        \u001b[36m0.8654\u001b[0m       \u001b[32m0.5510\u001b[0m        1.0788  93.7740\n"
     ]
    },
    {
     "data": {
      "application/vnd.jupyter.widget-view+json": {
       "model_id": "",
       "version_major": 2,
       "version_minor": 0
      },
      "text/plain": [
       "  0%|          | 0/879 [00:00<?, ?it/s]"
      ]
     },
     "metadata": {},
     "output_type": "display_data"
    },
    {
     "name": "stdout",
     "output_type": "stream",
     "text": [
      "      8        \u001b[36m0.8262\u001b[0m       \u001b[32m0.5690\u001b[0m        \u001b[35m1.0404\u001b[0m  93.7096\n"
     ]
    },
    {
     "data": {
      "application/vnd.jupyter.widget-view+json": {
       "model_id": "",
       "version_major": 2,
       "version_minor": 0
      },
      "text/plain": [
       "  0%|          | 0/879 [00:00<?, ?it/s]"
      ]
     },
     "metadata": {},
     "output_type": "display_data"
    },
    {
     "name": "stdout",
     "output_type": "stream",
     "text": [
      "      9        \u001b[36m0.7933\u001b[0m       0.5454        1.1168  93.7133\n"
     ]
    },
    {
     "data": {
      "application/vnd.jupyter.widget-view+json": {
       "model_id": "",
       "version_major": 2,
       "version_minor": 0
      },
      "text/plain": [
       "  0%|          | 0/879 [00:00<?, ?it/s]"
      ]
     },
     "metadata": {},
     "output_type": "display_data"
    },
    {
     "name": "stdout",
     "output_type": "stream",
     "text": [
      "     10        \u001b[36m0.7618\u001b[0m       0.5657        1.0623  93.7266\n",
      "Ordinal classification model constructed by Cleanlab_esm\n"
     ]
    },
    {
     "name": "stderr",
     "output_type": "stream",
     "text": [
      "C:\\Users\\deep\\miniconda3\\envs\\Bert\\lib\\site-packages\\sklearn\\model_selection\\_split.py:737: UserWarning: The least populated class in y has only 2 members, which is less than n_splits=5.\n",
      "  warnings.warn(\n"
     ]
    },
    {
     "data": {
      "application/vnd.jupyter.widget-view+json": {
       "model_id": "",
       "version_major": 2,
       "version_minor": 0
      },
      "text/plain": [
       "  0%|          | 0/879 [00:00<?, ?it/s]"
      ]
     },
     "metadata": {},
     "output_type": "display_data"
    },
    {
     "name": "stdout",
     "output_type": "stream",
     "text": [
      "  epoch    train_loss    valid_acc    valid_loss      dur\n",
      "-------  ------------  -----------  ------------  -------\n",
      "      1        \u001b[36m1.5171\u001b[0m       \u001b[32m0.4733\u001b[0m        \u001b[35m1.2810\u001b[0m  93.3120\n"
     ]
    },
    {
     "data": {
      "application/vnd.jupyter.widget-view+json": {
       "model_id": "",
       "version_major": 2,
       "version_minor": 0
      },
      "text/plain": [
       "  0%|          | 0/879 [00:00<?, ?it/s]"
      ]
     },
     "metadata": {},
     "output_type": "display_data"
    },
    {
     "name": "stdout",
     "output_type": "stream",
     "text": [
      "      2        \u001b[36m1.1450\u001b[0m       \u001b[32m0.5022\u001b[0m        \u001b[35m1.1782\u001b[0m  93.0693\n"
     ]
    },
    {
     "data": {
      "application/vnd.jupyter.widget-view+json": {
       "model_id": "",
       "version_major": 2,
       "version_minor": 0
      },
      "text/plain": [
       "  0%|          | 0/879 [00:00<?, ?it/s]"
      ]
     },
     "metadata": {},
     "output_type": "display_data"
    },
    {
     "name": "stdout",
     "output_type": "stream",
     "text": [
      "      3        \u001b[36m1.0422\u001b[0m       \u001b[32m0.5099\u001b[0m        \u001b[35m1.1554\u001b[0m  92.9805\n"
     ]
    },
    {
     "data": {
      "application/vnd.jupyter.widget-view+json": {
       "model_id": "",
       "version_major": 2,
       "version_minor": 0
      },
      "text/plain": [
       "  0%|          | 0/879 [00:00<?, ?it/s]"
      ]
     },
     "metadata": {},
     "output_type": "display_data"
    },
    {
     "name": "stdout",
     "output_type": "stream",
     "text": [
      "      4        \u001b[36m0.9736\u001b[0m       \u001b[32m0.5225\u001b[0m        \u001b[35m1.1339\u001b[0m  93.1999\n"
     ]
    },
    {
     "data": {
      "application/vnd.jupyter.widget-view+json": {
       "model_id": "",
       "version_major": 2,
       "version_minor": 0
      },
      "text/plain": [
       "  0%|          | 0/879 [00:00<?, ?it/s]"
      ]
     },
     "metadata": {},
     "output_type": "display_data"
    },
    {
     "name": "stdout",
     "output_type": "stream",
     "text": [
      "      5        \u001b[36m0.9182\u001b[0m       \u001b[32m0.5556\u001b[0m        \u001b[35m1.0630\u001b[0m  93.3742\n"
     ]
    },
    {
     "data": {
      "application/vnd.jupyter.widget-view+json": {
       "model_id": "",
       "version_major": 2,
       "version_minor": 0
      },
      "text/plain": [
       "  0%|          | 0/879 [00:00<?, ?it/s]"
      ]
     },
     "metadata": {},
     "output_type": "display_data"
    },
    {
     "name": "stdout",
     "output_type": "stream",
     "text": [
      "      6        \u001b[36m0.8675\u001b[0m       \u001b[32m0.5608\u001b[0m        \u001b[35m1.0555\u001b[0m  93.8430\n"
     ]
    },
    {
     "data": {
      "application/vnd.jupyter.widget-view+json": {
       "model_id": "",
       "version_major": 2,
       "version_minor": 0
      },
      "text/plain": [
       "  0%|          | 0/879 [00:00<?, ?it/s]"
      ]
     },
     "metadata": {},
     "output_type": "display_data"
    },
    {
     "name": "stdout",
     "output_type": "stream",
     "text": [
      "      7        \u001b[36m0.8259\u001b[0m       \u001b[32m0.5680\u001b[0m        \u001b[35m1.0475\u001b[0m  93.7888\n"
     ]
    },
    {
     "data": {
      "application/vnd.jupyter.widget-view+json": {
       "model_id": "",
       "version_major": 2,
       "version_minor": 0
      },
      "text/plain": [
       "  0%|          | 0/879 [00:00<?, ?it/s]"
      ]
     },
     "metadata": {},
     "output_type": "display_data"
    },
    {
     "name": "stdout",
     "output_type": "stream",
     "text": [
      "      8        \u001b[36m0.7864\u001b[0m       \u001b[32m0.5822\u001b[0m        \u001b[35m1.0232\u001b[0m  93.9480\n"
     ]
    },
    {
     "data": {
      "application/vnd.jupyter.widget-view+json": {
       "model_id": "",
       "version_major": 2,
       "version_minor": 0
      },
      "text/plain": [
       "  0%|          | 0/879 [00:00<?, ?it/s]"
      ]
     },
     "metadata": {},
     "output_type": "display_data"
    },
    {
     "name": "stdout",
     "output_type": "stream",
     "text": [
      "      9        \u001b[36m0.7504\u001b[0m       \u001b[32m0.5876\u001b[0m        \u001b[35m1.0224\u001b[0m  93.9376\n"
     ]
    },
    {
     "data": {
      "application/vnd.jupyter.widget-view+json": {
       "model_id": "",
       "version_major": 2,
       "version_minor": 0
      },
      "text/plain": [
       "  0%|          | 0/879 [00:00<?, ?it/s]"
      ]
     },
     "metadata": {},
     "output_type": "display_data"
    },
    {
     "name": "stdout",
     "output_type": "stream",
     "text": [
      "     10        \u001b[36m0.7181\u001b[0m       0.5713        1.0742  93.8483\n",
      "Ordinal classification model constructed by Cleanlab_esm\n"
     ]
    },
    {
     "name": "stderr",
     "output_type": "stream",
     "text": [
      "C:\\Users\\deep\\miniconda3\\envs\\Bert\\lib\\site-packages\\sklearn\\model_selection\\_split.py:737: UserWarning: The least populated class in y has only 2 members, which is less than n_splits=5.\n",
      "  warnings.warn(\n"
     ]
    },
    {
     "data": {
      "application/vnd.jupyter.widget-view+json": {
       "model_id": "",
       "version_major": 2,
       "version_minor": 0
      },
      "text/plain": [
       "  0%|          | 0/879 [00:00<?, ?it/s]"
      ]
     },
     "metadata": {},
     "output_type": "display_data"
    },
    {
     "name": "stdout",
     "output_type": "stream",
     "text": [
      "  epoch    train_loss    valid_acc    valid_loss      dur\n",
      "-------  ------------  -----------  ------------  -------\n",
      "      1        \u001b[36m1.5218\u001b[0m       \u001b[32m0.4466\u001b[0m        \u001b[35m1.3429\u001b[0m  93.9531\n"
     ]
    },
    {
     "data": {
      "application/vnd.jupyter.widget-view+json": {
       "model_id": "",
       "version_major": 2,
       "version_minor": 0
      },
      "text/plain": [
       "  0%|          | 0/879 [00:00<?, ?it/s]"
      ]
     },
     "metadata": {},
     "output_type": "display_data"
    },
    {
     "name": "stdout",
     "output_type": "stream",
     "text": [
      "      2        \u001b[36m1.1508\u001b[0m       \u001b[32m0.5229\u001b[0m        \u001b[35m1.1386\u001b[0m  94.0611\n"
     ]
    },
    {
     "data": {
      "application/vnd.jupyter.widget-view+json": {
       "model_id": "",
       "version_major": 2,
       "version_minor": 0
      },
      "text/plain": [
       "  0%|          | 0/879 [00:00<?, ?it/s]"
      ]
     },
     "metadata": {},
     "output_type": "display_data"
    },
    {
     "name": "stdout",
     "output_type": "stream",
     "text": [
      "      3        \u001b[36m1.0461\u001b[0m       0.5105        1.1549  93.9789\n"
     ]
    },
    {
     "data": {
      "application/vnd.jupyter.widget-view+json": {
       "model_id": "",
       "version_major": 2,
       "version_minor": 0
      },
      "text/plain": [
       "  0%|          | 0/879 [00:00<?, ?it/s]"
      ]
     },
     "metadata": {},
     "output_type": "display_data"
    },
    {
     "name": "stdout",
     "output_type": "stream",
     "text": [
      "      4        \u001b[36m0.9758\u001b[0m       \u001b[32m0.5454\u001b[0m        \u001b[35m1.0733\u001b[0m  93.9579\n"
     ]
    },
    {
     "data": {
      "application/vnd.jupyter.widget-view+json": {
       "model_id": "",
       "version_major": 2,
       "version_minor": 0
      },
      "text/plain": [
       "  0%|          | 0/879 [00:00<?, ?it/s]"
      ]
     },
     "metadata": {},
     "output_type": "display_data"
    },
    {
     "name": "stdout",
     "output_type": "stream",
     "text": [
      "      5        \u001b[36m0.9222\u001b[0m       \u001b[32m0.5465\u001b[0m        1.0742  93.8157\n"
     ]
    },
    {
     "data": {
      "application/vnd.jupyter.widget-view+json": {
       "model_id": "",
       "version_major": 2,
       "version_minor": 0
      },
      "text/plain": [
       "  0%|          | 0/879 [00:00<?, ?it/s]"
      ]
     },
     "metadata": {},
     "output_type": "display_data"
    },
    {
     "name": "stdout",
     "output_type": "stream",
     "text": [
      "      6        \u001b[36m0.8715\u001b[0m       \u001b[32m0.5513\u001b[0m        1.0735  93.9851\n"
     ]
    },
    {
     "data": {
      "application/vnd.jupyter.widget-view+json": {
       "model_id": "",
       "version_major": 2,
       "version_minor": 0
      },
      "text/plain": [
       "  0%|          | 0/879 [00:00<?, ?it/s]"
      ]
     },
     "metadata": {},
     "output_type": "display_data"
    },
    {
     "name": "stdout",
     "output_type": "stream",
     "text": [
      "      7        \u001b[36m0.8347\u001b[0m       \u001b[32m0.5684\u001b[0m        \u001b[35m1.0385\u001b[0m  93.8586\n"
     ]
    },
    {
     "data": {
      "application/vnd.jupyter.widget-view+json": {
       "model_id": "",
       "version_major": 2,
       "version_minor": 0
      },
      "text/plain": [
       "  0%|          | 0/879 [00:00<?, ?it/s]"
      ]
     },
     "metadata": {},
     "output_type": "display_data"
    },
    {
     "name": "stdout",
     "output_type": "stream",
     "text": [
      "      8        \u001b[36m0.7975\u001b[0m       \u001b[32m0.5768\u001b[0m        \u001b[35m1.0322\u001b[0m  93.7314\n"
     ]
    },
    {
     "data": {
      "application/vnd.jupyter.widget-view+json": {
       "model_id": "",
       "version_major": 2,
       "version_minor": 0
      },
      "text/plain": [
       "  0%|          | 0/879 [00:00<?, ?it/s]"
      ]
     },
     "metadata": {},
     "output_type": "display_data"
    },
    {
     "name": "stdout",
     "output_type": "stream",
     "text": [
      "      9        \u001b[36m0.7619\u001b[0m       0.5629        1.0713  94.0295\n"
     ]
    },
    {
     "data": {
      "application/vnd.jupyter.widget-view+json": {
       "model_id": "",
       "version_major": 2,
       "version_minor": 0
      },
      "text/plain": [
       "  0%|          | 0/879 [00:00<?, ?it/s]"
      ]
     },
     "metadata": {},
     "output_type": "display_data"
    },
    {
     "name": "stdout",
     "output_type": "stream",
     "text": [
      "     10        \u001b[36m0.7357\u001b[0m       0.5725        1.0528  93.9894\n",
      "Ordinal classification model constructed by Cleanlab_esm\n"
     ]
    },
    {
     "name": "stderr",
     "output_type": "stream",
     "text": [
      "C:\\Users\\deep\\miniconda3\\envs\\Bert\\lib\\site-packages\\sklearn\\model_selection\\_split.py:737: UserWarning: The least populated class in y has only 2 members, which is less than n_splits=5.\n",
      "  warnings.warn(\n"
     ]
    },
    {
     "data": {
      "application/vnd.jupyter.widget-view+json": {
       "model_id": "",
       "version_major": 2,
       "version_minor": 0
      },
      "text/plain": [
       "  0%|          | 0/879 [00:00<?, ?it/s]"
      ]
     },
     "metadata": {},
     "output_type": "display_data"
    },
    {
     "name": "stdout",
     "output_type": "stream",
     "text": [
      "  epoch    train_loss    valid_acc    valid_loss      dur\n",
      "-------  ------------  -----------  ------------  -------\n",
      "      1        \u001b[36m1.5211\u001b[0m       \u001b[32m0.4405\u001b[0m        \u001b[35m1.3600\u001b[0m  94.0389\n"
     ]
    },
    {
     "data": {
      "application/vnd.jupyter.widget-view+json": {
       "model_id": "",
       "version_major": 2,
       "version_minor": 0
      },
      "text/plain": [
       "  0%|          | 0/879 [00:00<?, ?it/s]"
      ]
     },
     "metadata": {},
     "output_type": "display_data"
    },
    {
     "name": "stdout",
     "output_type": "stream",
     "text": [
      "      2        \u001b[36m1.1474\u001b[0m       \u001b[32m0.4764\u001b[0m        \u001b[35m1.2356\u001b[0m  93.8685\n"
     ]
    },
    {
     "data": {
      "application/vnd.jupyter.widget-view+json": {
       "model_id": "",
       "version_major": 2,
       "version_minor": 0
      },
      "text/plain": [
       "  0%|          | 0/879 [00:00<?, ?it/s]"
      ]
     },
     "metadata": {},
     "output_type": "display_data"
    },
    {
     "name": "stdout",
     "output_type": "stream",
     "text": [
      "      3        \u001b[36m1.0541\u001b[0m       \u001b[32m0.5179\u001b[0m        \u001b[35m1.1388\u001b[0m  93.8808\n"
     ]
    },
    {
     "data": {
      "application/vnd.jupyter.widget-view+json": {
       "model_id": "",
       "version_major": 2,
       "version_minor": 0
      },
      "text/plain": [
       "  0%|          | 0/879 [00:00<?, ?it/s]"
      ]
     },
     "metadata": {},
     "output_type": "display_data"
    },
    {
     "name": "stdout",
     "output_type": "stream",
     "text": [
      "      4        \u001b[36m0.9900\u001b[0m       \u001b[32m0.5398\u001b[0m        \u001b[35m1.0762\u001b[0m  94.0028\n"
     ]
    },
    {
     "data": {
      "application/vnd.jupyter.widget-view+json": {
       "model_id": "",
       "version_major": 2,
       "version_minor": 0
      },
      "text/plain": [
       "  0%|          | 0/879 [00:00<?, ?it/s]"
      ]
     },
     "metadata": {},
     "output_type": "display_data"
    },
    {
     "name": "stdout",
     "output_type": "stream",
     "text": [
      "      5        \u001b[36m0.9343\u001b[0m       \u001b[32m0.5454\u001b[0m        \u001b[35m1.0752\u001b[0m  93.9235\n"
     ]
    },
    {
     "data": {
      "application/vnd.jupyter.widget-view+json": {
       "model_id": "",
       "version_major": 2,
       "version_minor": 0
      },
      "text/plain": [
       "  0%|          | 0/879 [00:00<?, ?it/s]"
      ]
     },
     "metadata": {},
     "output_type": "display_data"
    },
    {
     "name": "stdout",
     "output_type": "stream",
     "text": [
      "      6        \u001b[36m0.8866\u001b[0m       0.5411        1.0858  94.0326\n"
     ]
    },
    {
     "data": {
      "application/vnd.jupyter.widget-view+json": {
       "model_id": "",
       "version_major": 2,
       "version_minor": 0
      },
      "text/plain": [
       "  0%|          | 0/879 [00:00<?, ?it/s]"
      ]
     },
     "metadata": {},
     "output_type": "display_data"
    },
    {
     "name": "stdout",
     "output_type": "stream",
     "text": [
      "      7        \u001b[36m0.8448\u001b[0m       \u001b[32m0.5598\u001b[0m        \u001b[35m1.0504\u001b[0m  93.9266\n"
     ]
    },
    {
     "data": {
      "application/vnd.jupyter.widget-view+json": {
       "model_id": "",
       "version_major": 2,
       "version_minor": 0
      },
      "text/plain": [
       "  0%|          | 0/879 [00:00<?, ?it/s]"
      ]
     },
     "metadata": {},
     "output_type": "display_data"
    },
    {
     "name": "stdout",
     "output_type": "stream",
     "text": [
      "      8        \u001b[36m0.8093\u001b[0m       \u001b[32m0.5752\u001b[0m        \u001b[35m1.0217\u001b[0m  93.8287\n"
     ]
    },
    {
     "data": {
      "application/vnd.jupyter.widget-view+json": {
       "model_id": "",
       "version_major": 2,
       "version_minor": 0
      },
      "text/plain": [
       "  0%|          | 0/879 [00:00<?, ?it/s]"
      ]
     },
     "metadata": {},
     "output_type": "display_data"
    },
    {
     "name": "stdout",
     "output_type": "stream",
     "text": [
      "      9        \u001b[36m0.7729\u001b[0m       0.5593        1.0791  93.8289\n"
     ]
    },
    {
     "data": {
      "application/vnd.jupyter.widget-view+json": {
       "model_id": "",
       "version_major": 2,
       "version_minor": 0
      },
      "text/plain": [
       "  0%|          | 0/879 [00:00<?, ?it/s]"
      ]
     },
     "metadata": {},
     "output_type": "display_data"
    },
    {
     "name": "stdout",
     "output_type": "stream",
     "text": [
      "     10        \u001b[36m0.7423\u001b[0m       0.5726        1.0269  93.8018\n",
      "Ordinal classification model constructed by Cleanlab_esm\n"
     ]
    },
    {
     "name": "stderr",
     "output_type": "stream",
     "text": [
      "C:\\Users\\deep\\miniconda3\\envs\\Bert\\lib\\site-packages\\sklearn\\model_selection\\_split.py:737: UserWarning: The least populated class in y has only 1 members, which is less than n_splits=5.\n",
      "  warnings.warn(\n"
     ]
    },
    {
     "data": {
      "application/vnd.jupyter.widget-view+json": {
       "model_id": "",
       "version_major": 2,
       "version_minor": 0
      },
      "text/plain": [
       "  0%|          | 0/879 [00:00<?, ?it/s]"
      ]
     },
     "metadata": {},
     "output_type": "display_data"
    },
    {
     "name": "stdout",
     "output_type": "stream",
     "text": [
      "  epoch    train_loss    valid_acc    valid_loss      dur\n",
      "-------  ------------  -----------  ------------  -------\n",
      "      1        \u001b[36m1.5362\u001b[0m       \u001b[32m0.4689\u001b[0m        \u001b[35m1.2965\u001b[0m  94.0318\n"
     ]
    },
    {
     "data": {
      "application/vnd.jupyter.widget-view+json": {
       "model_id": "",
       "version_major": 2,
       "version_minor": 0
      },
      "text/plain": [
       "  0%|          | 0/879 [00:00<?, ?it/s]"
      ]
     },
     "metadata": {},
     "output_type": "display_data"
    },
    {
     "name": "stdout",
     "output_type": "stream",
     "text": [
      "      2        \u001b[36m1.1698\u001b[0m       \u001b[32m0.4882\u001b[0m        \u001b[35m1.2090\u001b[0m  92.5824\n"
     ]
    },
    {
     "data": {
      "application/vnd.jupyter.widget-view+json": {
       "model_id": "",
       "version_major": 2,
       "version_minor": 0
      },
      "text/plain": [
       "  0%|          | 0/879 [00:00<?, ?it/s]"
      ]
     },
     "metadata": {},
     "output_type": "display_data"
    },
    {
     "name": "stdout",
     "output_type": "stream",
     "text": [
      "      3        \u001b[36m1.0666\u001b[0m       \u001b[32m0.5175\u001b[0m        \u001b[35m1.1413\u001b[0m  92.6858\n"
     ]
    },
    {
     "data": {
      "application/vnd.jupyter.widget-view+json": {
       "model_id": "",
       "version_major": 2,
       "version_minor": 0
      },
      "text/plain": [
       "  0%|          | 0/879 [00:00<?, ?it/s]"
      ]
     },
     "metadata": {},
     "output_type": "display_data"
    },
    {
     "name": "stdout",
     "output_type": "stream",
     "text": [
      "      4        \u001b[36m0.9981\u001b[0m       0.5134        1.1569  93.8229\n"
     ]
    },
    {
     "data": {
      "application/vnd.jupyter.widget-view+json": {
       "model_id": "",
       "version_major": 2,
       "version_minor": 0
      },
      "text/plain": [
       "  0%|          | 0/879 [00:00<?, ?it/s]"
      ]
     },
     "metadata": {},
     "output_type": "display_data"
    },
    {
     "name": "stdout",
     "output_type": "stream",
     "text": [
      "      5        \u001b[36m0.9405\u001b[0m       \u001b[32m0.5397\u001b[0m        \u001b[35m1.0812\u001b[0m  93.9545\n"
     ]
    },
    {
     "data": {
      "application/vnd.jupyter.widget-view+json": {
       "model_id": "",
       "version_major": 2,
       "version_minor": 0
      },
      "text/plain": [
       "  0%|          | 0/879 [00:00<?, ?it/s]"
      ]
     },
     "metadata": {},
     "output_type": "display_data"
    },
    {
     "name": "stdout",
     "output_type": "stream",
     "text": [
      "      6        \u001b[36m0.8951\u001b[0m       \u001b[32m0.5534\u001b[0m        \u001b[35m1.0596\u001b[0m  93.8539\n"
     ]
    },
    {
     "data": {
      "application/vnd.jupyter.widget-view+json": {
       "model_id": "",
       "version_major": 2,
       "version_minor": 0
      },
      "text/plain": [
       "  0%|          | 0/879 [00:00<?, ?it/s]"
      ]
     },
     "metadata": {},
     "output_type": "display_data"
    },
    {
     "name": "stdout",
     "output_type": "stream",
     "text": [
      "      7        \u001b[36m0.8503\u001b[0m       \u001b[32m0.5688\u001b[0m        \u001b[35m1.0383\u001b[0m  93.8890\n"
     ]
    },
    {
     "data": {
      "application/vnd.jupyter.widget-view+json": {
       "model_id": "",
       "version_major": 2,
       "version_minor": 0
      },
      "text/plain": [
       "  0%|          | 0/879 [00:00<?, ?it/s]"
      ]
     },
     "metadata": {},
     "output_type": "display_data"
    },
    {
     "name": "stdout",
     "output_type": "stream",
     "text": [
      "      8        \u001b[36m0.8144\u001b[0m       0.5589        1.0633  93.9499\n"
     ]
    },
    {
     "data": {
      "application/vnd.jupyter.widget-view+json": {
       "model_id": "",
       "version_major": 2,
       "version_minor": 0
      },
      "text/plain": [
       "  0%|          | 0/879 [00:00<?, ?it/s]"
      ]
     },
     "metadata": {},
     "output_type": "display_data"
    },
    {
     "name": "stdout",
     "output_type": "stream",
     "text": [
      "      9        \u001b[36m0.7831\u001b[0m       0.5584        1.0919  93.9163\n"
     ]
    },
    {
     "data": {
      "application/vnd.jupyter.widget-view+json": {
       "model_id": "",
       "version_major": 2,
       "version_minor": 0
      },
      "text/plain": [
       "  0%|          | 0/879 [00:00<?, ?it/s]"
      ]
     },
     "metadata": {},
     "output_type": "display_data"
    },
    {
     "name": "stdout",
     "output_type": "stream",
     "text": [
      "     10        \u001b[36m0.7540\u001b[0m       0.5577        1.0946  93.8343\n",
      "Using predicted probabilities to identify label issues ...\n",
      "Identified 66361 examples with label issues.\n"
     ]
    },
    {
     "data": {
      "text/html": [
       "<div>\n",
       "<style scoped>\n",
       "    .dataframe tbody tr th:only-of-type {\n",
       "        vertical-align: middle;\n",
       "    }\n",
       "\n",
       "    .dataframe tbody tr th {\n",
       "        vertical-align: top;\n",
       "    }\n",
       "\n",
       "    .dataframe thead th {\n",
       "        text-align: right;\n",
       "    }\n",
       "</style>\n",
       "<table border=\"1\" class=\"dataframe\">\n",
       "  <thead>\n",
       "    <tr style=\"text-align: right;\">\n",
       "      <th></th>\n",
       "      <th>is_label_issue</th>\n",
       "      <th>label_quality</th>\n",
       "      <th>given_label</th>\n",
       "      <th>predicted_label</th>\n",
       "    </tr>\n",
       "  </thead>\n",
       "  <tbody>\n",
       "    <tr>\n",
       "      <th>0</th>\n",
       "      <td>True</td>\n",
       "      <td>0.028841</td>\n",
       "      <td>11</td>\n",
       "      <td>18</td>\n",
       "    </tr>\n",
       "    <tr>\n",
       "      <th>1</th>\n",
       "      <td>False</td>\n",
       "      <td>0.353637</td>\n",
       "      <td>14</td>\n",
       "      <td>13</td>\n",
       "    </tr>\n",
       "    <tr>\n",
       "      <th>2</th>\n",
       "      <td>False</td>\n",
       "      <td>0.401019</td>\n",
       "      <td>14</td>\n",
       "      <td>14</td>\n",
       "    </tr>\n",
       "    <tr>\n",
       "      <th>3</th>\n",
       "      <td>True</td>\n",
       "      <td>0.082455</td>\n",
       "      <td>4</td>\n",
       "      <td>6</td>\n",
       "    </tr>\n",
       "    <tr>\n",
       "      <th>4</th>\n",
       "      <td>False</td>\n",
       "      <td>0.300579</td>\n",
       "      <td>12</td>\n",
       "      <td>12</td>\n",
       "    </tr>\n",
       "  </tbody>\n",
       "</table>\n",
       "</div>"
      ],
      "text/plain": [
       "   is_label_issue  label_quality  given_label  predicted_label\n",
       "0            True       0.028841           11               18\n",
       "1           False       0.353637           14               13\n",
       "2           False       0.401019           14               14\n",
       "3            True       0.082455            4                6\n",
       "4           False       0.300579           12               12"
      ]
     },
     "execution_count": 11,
     "metadata": {},
     "output_type": "execute_result"
    }
   ],
   "source": [
    "# cleanlab works with **any classifier**.\n",
    "cl = cleanlab.classification.CleanLearning(pipeline, cv_n_folds = 10, verbose=True)\n",
    "##The find_label_issues method above will perform cross validation to compute out-of-sample predicted probabilites for each example, which is used to identify label issues.\n",
    "# CleanLearning fits multiple copies of our regression model via cross-validation and bootstrapping in order to compute predictions and uncertainty estimates for the dataset, \n",
    "# which are used to identify label issues (i.e. likely corrupted y-values).\n",
    "label_issues = cl.find_label_issues(train_x, train_y)\n",
    "label_issues.head()"
   ]
  },
  {
   "cell_type": "code",
   "execution_count": 12,
   "id": "e535fce8-e1b8-497c-8444-4ec04549dd8e",
   "metadata": {},
   "outputs": [
    {
     "data": {
      "image/png": "[encoded data removed]",
      "text/plain": [
       "<Figure size 4000x4000 with 1 Axes>"
      ]
     },
     "metadata": {},
     "output_type": "display_data"
    }
   ],
   "source": [
    "from sklearn.metrics import confusion_matrix\n",
    "import matplotlib.pyplot as plt\n",
    "conf_matrix = confusion_matrix(y_true=label_issues.given_label, y_pred=label_issues.predicted_label)\n",
    "# Print the confusion matrix using Matplotlib\n",
    "#\n",
    "fig, ax = plt.subplots(figsize=(40, 40))\n",
    "ax.matshow(conf_matrix, cmap=plt.cm.Blues, alpha=0.3)\n",
    "for i in range(conf_matrix.shape[0]):\n",
    "    for j in range(conf_matrix.shape[1]):\n",
    "        ax.text(x=j, y=i,s=conf_matrix[i, j], va='center', ha='center', size='xx-large')\n",
    " \n",
    "plt.xlabel('Predictions', fontsize=20)\n",
    "plt.ylabel('Actuals', fontsize=20)\n",
    "plt.title('Confusion Matrix', fontsize=20)\n",
    "plt.show()"
   ]
  },
  {
   "cell_type": "code",
   "execution_count": 13,
   "id": "e255b290-06eb-4e14-98ca-6b9701c6c6a3",
   "metadata": {},
   "outputs": [
    {
     "name": "stdout",
     "output_type": "stream",
     "text": [
      "Using provided label_issues instead of finding label issues.\n",
      "These will overwrite self.label_issues_df and will be returned by `self.get_label_issues()`. \n",
      "Pruning 66361 examples with label issues ...\n",
      "Remaining clean data has 183460 examples.\n",
      "Fitting final model on the clean data ...\n",
      "Ordinal classification model constructed by Cleanlab_esm\n"
     ]
    },
    {
     "name": "stderr",
     "output_type": "stream",
     "text": [
      "C:\\Users\\deep\\miniconda3\\envs\\Bert\\lib\\site-packages\\sklearn\\model_selection\\_split.py:737: UserWarning: The least populated class in y has only 2 members, which is less than n_splits=5.\n",
      "  warnings.warn(\n"
     ]
    },
    {
     "data": {
      "application/vnd.jupyter.widget-view+json": {
       "model_id": "",
       "version_major": 2,
       "version_minor": 0
      },
      "text/plain": [
       "  0%|          | 0/718 [00:00<?, ?it/s]"
      ]
     },
     "metadata": {},
     "output_type": "display_data"
    },
    {
     "name": "stdout",
     "output_type": "stream",
     "text": [
      "  epoch    train_loss    valid_acc    valid_loss      dur\n",
      "-------  ------------  -----------  ------------  -------\n",
      "      1        \u001b[36m1.4511\u001b[0m       \u001b[32m0.5738\u001b[0m        \u001b[35m1.0590\u001b[0m  75.7610\n"
     ]
    },
    {
     "data": {
      "application/vnd.jupyter.widget-view+json": {
       "model_id": "",
       "version_major": 2,
       "version_minor": 0
      },
      "text/plain": [
       "  0%|          | 0/718 [00:00<?, ?it/s]"
      ]
     },
     "metadata": {},
     "output_type": "display_data"
    },
    {
     "name": "stdout",
     "output_type": "stream",
     "text": [
      "      2        \u001b[36m0.9832\u001b[0m       \u001b[32m0.6123\u001b[0m        \u001b[35m0.9162\u001b[0m  75.4725\n"
     ]
    },
    {
     "data": {
      "application/vnd.jupyter.widget-view+json": {
       "model_id": "",
       "version_major": 2,
       "version_minor": 0
      },
      "text/plain": [
       "  0%|          | 0/718 [00:00<?, ?it/s]"
      ]
     },
     "metadata": {},
     "output_type": "display_data"
    },
    {
     "name": "stdout",
     "output_type": "stream",
     "text": [
      "      3        \u001b[36m0.8425\u001b[0m       \u001b[32m0.6323\u001b[0m        \u001b[35m0.8499\u001b[0m  75.7231\n"
     ]
    },
    {
     "data": {
      "application/vnd.jupyter.widget-view+json": {
       "model_id": "",
       "version_major": 2,
       "version_minor": 0
      },
      "text/plain": [
       "  0%|          | 0/718 [00:00<?, ?it/s]"
      ]
     },
     "metadata": {},
     "output_type": "display_data"
    },
    {
     "name": "stdout",
     "output_type": "stream",
     "text": [
      "      4        \u001b[36m0.7442\u001b[0m       \u001b[32m0.6571\u001b[0m        \u001b[35m0.7874\u001b[0m  75.5114\n"
     ]
    },
    {
     "data": {
      "application/vnd.jupyter.widget-view+json": {
       "model_id": "",
       "version_major": 2,
       "version_minor": 0
      },
      "text/plain": [
       "  0%|          | 0/718 [00:00<?, ?it/s]"
      ]
     },
     "metadata": {},
     "output_type": "display_data"
    },
    {
     "name": "stdout",
     "output_type": "stream",
     "text": [
      "      5        \u001b[36m0.6791\u001b[0m       \u001b[32m0.6844\u001b[0m        \u001b[35m0.7366\u001b[0m  75.4197\n"
     ]
    },
    {
     "data": {
      "application/vnd.jupyter.widget-view+json": {
       "model_id": "",
       "version_major": 2,
       "version_minor": 0
      },
      "text/plain": [
       "  0%|          | 0/718 [00:00<?, ?it/s]"
      ]
     },
     "metadata": {},
     "output_type": "display_data"
    },
    {
     "name": "stdout",
     "output_type": "stream",
     "text": [
      "      6        \u001b[36m0.6184\u001b[0m       \u001b[32m0.6908\u001b[0m        \u001b[35m0.7172\u001b[0m  75.5665\n"
     ]
    },
    {
     "data": {
      "application/vnd.jupyter.widget-view+json": {
       "model_id": "",
       "version_major": 2,
       "version_minor": 0
      },
      "text/plain": [
       "  0%|          | 0/718 [00:00<?, ?it/s]"
      ]
     },
     "metadata": {},
     "output_type": "display_data"
    },
    {
     "name": "stdout",
     "output_type": "stream",
     "text": [
      "      7        \u001b[36m0.5737\u001b[0m       \u001b[32m0.6979\u001b[0m        \u001b[35m0.7160\u001b[0m  75.6788\n"
     ]
    },
    {
     "data": {
      "application/vnd.jupyter.widget-view+json": {
       "model_id": "",
       "version_major": 2,
       "version_minor": 0
      },
      "text/plain": [
       "  0%|          | 0/718 [00:00<?, ?it/s]"
      ]
     },
     "metadata": {},
     "output_type": "display_data"
    },
    {
     "name": "stdout",
     "output_type": "stream",
     "text": [
      "      8        \u001b[36m0.5339\u001b[0m       \u001b[32m0.7156\u001b[0m        \u001b[35m0.6877\u001b[0m  75.5376\n"
     ]
    },
    {
     "data": {
      "application/vnd.jupyter.widget-view+json": {
       "model_id": "",
       "version_major": 2,
       "version_minor": 0
      },
      "text/plain": [
       "  0%|          | 0/718 [00:00<?, ?it/s]"
      ]
     },
     "metadata": {},
     "output_type": "display_data"
    },
    {
     "name": "stdout",
     "output_type": "stream",
     "text": [
      "      9        \u001b[36m0.4974\u001b[0m       0.6982        0.7410  75.5875\n"
     ]
    },
    {
     "data": {
      "application/vnd.jupyter.widget-view+json": {
       "model_id": "",
       "version_major": 2,
       "version_minor": 0
      },
      "text/plain": [
       "  0%|          | 0/718 [00:00<?, ?it/s]"
      ]
     },
     "metadata": {},
     "output_type": "display_data"
    },
    {
     "name": "stdout",
     "output_type": "stream",
     "text": [
      "     10        \u001b[36m0.4686\u001b[0m       0.7069        0.7273  75.5915\n",
      "Label issues stored in label_issues_df DataFrame accessible via: self.get_label_issues(). Call self.save_space() to delete this potentially large DataFrame attribute.\n"
     ]
    },
    {
     "data": {
      "text/html": [
       "<style>#sk-container-id-1 {color: black;}#sk-container-id-1 pre{padding: 0;}#sk-container-id-1 div.sk-toggleable {background-color: white;}#sk-container-id-1 label.sk-toggleable__label {cursor: pointer;display: block;width: 100%;margin-bottom: 0;padding: 0.3em;box-sizing: border-box;text-align: center;}#sk-container-id-1 label.sk-toggleable__label-arrow:before {content: \"▸\";float: left;margin-right: 0.25em;color: #696969;}#sk-container-id-1 label.sk-toggleable__label-arrow:hover:before {color: black;}#sk-container-id-1 div.sk-estimator:hover label.sk-toggleable__label-arrow:before {color: black;}#sk-container-id-1 div.sk-toggleable__content {max-height: 0;max-width: 0;overflow: hidden;text-align: left;background-color: #f0f8ff;}#sk-container-id-1 div.sk-toggleable__content pre {margin: 0.2em;color: black;border-radius: 0.25em;background-color: #f0f8ff;}#sk-container-id-1 input.sk-toggleable__control:checked~div.sk-toggleable__content {max-height: 200px;max-width: 100%;overflow: auto;}#sk-container-id-1 input.sk-toggleable__control:checked~label.sk-toggleable__label-arrow:before {content: \"▾\";}#sk-container-id-1 div.sk-estimator input.sk-toggleable__control:checked~label.sk-toggleable__label {background-color: #d4ebff;}#sk-container-id-1 div.sk-label input.sk-toggleable__control:checked~label.sk-toggleable__label {background-color: #d4ebff;}#sk-container-id-1 input.sk-hidden--visually {border: 0;clip: rect(1px 1px 1px 1px);clip: rect(1px, 1px, 1px, 1px);height: 1px;margin: -1px;overflow: hidden;padding: 0;position: absolute;width: 1px;}#sk-container-id-1 div.sk-estimator {font-family: monospace;background-color: #f0f8ff;border: 1px dotted black;border-radius: 0.25em;box-sizing: border-box;margin-bottom: 0.5em;}#sk-container-id-1 div.sk-estimator:hover {background-color: #d4ebff;}#sk-container-id-1 div.sk-parallel-item::after {content: \"\";width: 100%;border-bottom: 1px solid gray;flex-grow: 1;}#sk-container-id-1 div.sk-label:hover label.sk-toggleable__label {background-color: #d4ebff;}#sk-container-id-1 div.sk-serial::before {content: \"\";position: absolute;border-left: 1px solid gray;box-sizing: border-box;top: 0;bottom: 0;left: 50%;z-index: 0;}#sk-container-id-1 div.sk-serial {display: flex;flex-direction: column;align-items: center;background-color: white;padding-right: 0.2em;padding-left: 0.2em;position: relative;}#sk-container-id-1 div.sk-item {position: relative;z-index: 1;}#sk-container-id-1 div.sk-parallel {display: flex;align-items: stretch;justify-content: center;background-color: white;position: relative;}#sk-container-id-1 div.sk-item::before, #sk-container-id-1 div.sk-parallel-item::before {content: \"\";position: absolute;border-left: 1px solid gray;box-sizing: border-box;top: 0;bottom: 0;left: 50%;z-index: -1;}#sk-container-id-1 div.sk-parallel-item {display: flex;flex-direction: column;z-index: 1;position: relative;background-color: white;}#sk-container-id-1 div.sk-parallel-item:first-child::after {align-self: flex-end;width: 50%;}#sk-container-id-1 div.sk-parallel-item:last-child::after {align-self: flex-start;width: 50%;}#sk-container-id-1 div.sk-parallel-item:only-child::after {width: 0;}#sk-container-id-1 div.sk-dashed-wrapped {border: 1px dashed gray;margin: 0 0.4em 0.5em 0.4em;box-sizing: border-box;padding-bottom: 0.4em;background-color: white;}#sk-container-id-1 div.sk-label label {font-family: monospace;font-weight: bold;display: inline-block;line-height: 1.2em;}#sk-container-id-1 div.sk-label-container {text-align: center;}#sk-container-id-1 div.sk-container {/* jupyter's `normalize.less` sets `[hidden] { display: none; }` but bootstrap.min.css set `[hidden] { display: none !important; }` so we also need the `!important` here to be able to override the default hidden behavior on the sphinx rendered scikit-learn.org. See: https://github.com/scikit-learn/scikit-learn/issues/21755 */display: inline-block !important;position: relative;}#sk-container-id-1 div.sk-text-repr-fallback {display: none;}</style><div id=\"sk-container-id-1\" class=\"sk-top-container\"><div class=\"sk-text-repr-fallback\"><pre>CleanLearning(clf=Pipeline(steps=[(&#x27;tokenizer&#x27;,\n",
       "                                   HuggingfacePretrainedTokenizer(tokenizer=&#x27;./pretrain_models/Cleanlab_esm&#x27;)),\n",
       "                                  (&#x27;net&#x27;,\n",
       "                                   &lt;class &#x27;__main__.AcceleratedNet&#x27;&gt;[initialized](\n",
       "  module_=Classification_Module(\n",
       "    (model): EsmForSequenceClassification(\n",
       "      (esm): EsmModel(\n",
       "        (embeddings): EsmEmbeddings(\n",
       "          (word_embeddings): Embedding(1581, 320, padding_idx=1)\n",
       "          (dropout): Drop...\n",
       "            4,    10,     9,    53,   279,  2741,  9511,  2801,   153,\n",
       "            7,     0,   549],\n",
       "       [    0,     2,     0,     1,     0,     2,     5,     2,     1,\n",
       "            3,     1,     2,     6,    43,   329,  3032,  9157,  2360,\n",
       "           24,     0,   406],\n",
       "       [    0,     0,     0,     0,     4,     0,     1,     1,     9,\n",
       "            2,     2,     6,    18,    18,    69,   454,  3473, 10294,\n",
       "          710,     0,  1004],\n",
       "       [    2,     0,     0,     7,     5,     2,     5,     3,     7,\n",
       "            6,     9,     3,    10,    12,    21,    58,   378,  2549,\n",
       "        13850,     0,  1126],\n",
       "       [    0,     0,     0,     0,     0,     0,     0,     0,     0,\n",
       "            0,     0,     1,     0,     0,     0,     0,     0,     0,\n",
       "            6,     1,     0],\n",
       "       [    0,     0,     0,     0,     0,     0,     0,     0,     0,\n",
       "            0,     0,     0,     0,     0,     0,     0,     0,     0,\n",
       "            1,     0,     1]]),\n",
       "                                        &#x27;min_examples_per_class&#x27;: 10},\n",
       "              verbose=True)</pre><b>In a Jupyter environment, please rerun this cell to show the HTML representation or trust the notebook. <br />On GitHub, the HTML representation is unable to render, please try loading this page with nbviewer.org.</b></div><div class=\"sk-container\" hidden><div class=\"sk-item sk-dashed-wrapped\"><div class=\"sk-label-container\"><div class=\"sk-label sk-toggleable\"><input class=\"sk-toggleable__control sk-hidden--visually\" id=\"sk-estimator-id-1\" type=\"checkbox\" ><label for=\"sk-estimator-id-1\" class=\"sk-toggleable__label sk-toggleable__label-arrow\">CleanLearning</label><div class=\"sk-toggleable__content\"><pre>CleanLearning(clf=Pipeline(steps=[(&#x27;tokenizer&#x27;,\n",
       "                                   HuggingfacePretrainedTokenizer(tokenizer=&#x27;./pretrain_models/Cleanlab_esm&#x27;)),\n",
       "                                  (&#x27;net&#x27;,\n",
       "                                   &lt;class &#x27;__main__.AcceleratedNet&#x27;&gt;[initialized](\n",
       "  module_=Classification_Module(\n",
       "    (model): EsmForSequenceClassification(\n",
       "      (esm): EsmModel(\n",
       "        (embeddings): EsmEmbeddings(\n",
       "          (word_embeddings): Embedding(1581, 320, padding_idx=1)\n",
       "          (dropout): Drop...\n",
       "            4,    10,     9,    53,   279,  2741,  9511,  2801,   153,\n",
       "            7,     0,   549],\n",
       "       [    0,     2,     0,     1,     0,     2,     5,     2,     1,\n",
       "            3,     1,     2,     6,    43,   329,  3032,  9157,  2360,\n",
       "           24,     0,   406],\n",
       "       [    0,     0,     0,     0,     4,     0,     1,     1,     9,\n",
       "            2,     2,     6,    18,    18,    69,   454,  3473, 10294,\n",
       "          710,     0,  1004],\n",
       "       [    2,     0,     0,     7,     5,     2,     5,     3,     7,\n",
       "            6,     9,     3,    10,    12,    21,    58,   378,  2549,\n",
       "        13850,     0,  1126],\n",
       "       [    0,     0,     0,     0,     0,     0,     0,     0,     0,\n",
       "            0,     0,     1,     0,     0,     0,     0,     0,     0,\n",
       "            6,     1,     0],\n",
       "       [    0,     0,     0,     0,     0,     0,     0,     0,     0,\n",
       "            0,     0,     0,     0,     0,     0,     0,     0,     0,\n",
       "            1,     0,     1]]),\n",
       "                                        &#x27;min_examples_per_class&#x27;: 10},\n",
       "              verbose=True)</pre></div></div></div><div class=\"sk-parallel\"><div class=\"sk-parallel-item\"><div class=\"sk-item\"><div class=\"sk-label-container\"><div class=\"sk-label sk-toggleable\"><input class=\"sk-toggleable__control sk-hidden--visually\" id=\"sk-estimator-id-2\" type=\"checkbox\" ><label for=\"sk-estimator-id-2\" class=\"sk-toggleable__label sk-toggleable__label-arrow\">clf: Pipeline</label><div class=\"sk-toggleable__content\"><pre>Pipeline(steps=[(&#x27;tokenizer&#x27;,\n",
       "                 HuggingfacePretrainedTokenizer(tokenizer=&#x27;./pretrain_models/Cleanlab_esm&#x27;)),\n",
       "                (&#x27;net&#x27;,\n",
       "                 &lt;class &#x27;__main__.AcceleratedNet&#x27;&gt;[initialized](\n",
       "  module_=Classification_Module(\n",
       "    (model): EsmForSequenceClassification(\n",
       "      (esm): EsmModel(\n",
       "        (embeddings): EsmEmbeddings(\n",
       "          (word_embeddings): Embedding(1581, 320, padding_idx=1)\n",
       "          (dropout): Dropout(p=0.1, inplace=...\n",
       "          (emb_layer_norm_after): LayerNorm((320,), eps=1e-05, elementwise_affine=True)\n",
       "        )\n",
       "        (contact_head): EsmContactPredictionHead(\n",
       "          (regression): Linear(in_features=40, out_features=1, bias=True)\n",
       "          (activation): Sigmoid()\n",
       "        )\n",
       "      )\n",
       "      (classifier): EsmClassificationHead(\n",
       "        (dense): Linear(in_features=320, out_features=320, bias=True)\n",
       "        (dropout): Dropout(p=0.1, inplace=False)\n",
       "        (out_proj): Linear(in_features=320, out_features=21, bias=True)\n",
       "      )\n",
       "    )\n",
       "  ),\n",
       "))])</pre></div></div></div><div class=\"sk-serial\"><div class=\"sk-item\"><div class=\"sk-serial\"><div class=\"sk-item\"><div class=\"sk-estimator sk-toggleable\"><input class=\"sk-toggleable__control sk-hidden--visually\" id=\"sk-estimator-id-3\" type=\"checkbox\" ><label for=\"sk-estimator-id-3\" class=\"sk-toggleable__label sk-toggleable__label-arrow\">HuggingfacePretrainedTokenizer</label><div class=\"sk-toggleable__content\"><pre>HuggingfacePretrainedTokenizer(tokenizer=&#x27;./pretrain_models/Cleanlab_esm&#x27;)</pre></div></div></div><div class=\"sk-item\"><div class=\"sk-estimator sk-toggleable\"><input class=\"sk-toggleable__control sk-hidden--visually\" id=\"sk-estimator-id-4\" type=\"checkbox\" ><label for=\"sk-estimator-id-4\" class=\"sk-toggleable__label sk-toggleable__label-arrow\">AcceleratedNet</label><div class=\"sk-toggleable__content\"><pre>&lt;class &#x27;__main__.AcceleratedNet&#x27;&gt;[initialized](\n",
       "  module_=Classification_Module(\n",
       "    (model): EsmForSequenceClassification(\n",
       "      (esm): EsmModel(\n",
       "        (embeddings): EsmEmbeddings(\n",
       "          (word_embeddings): Embedding(1581, 320, padding_idx=1)\n",
       "          (dropout): Dropout(p=0.1, inplace=False)\n",
       "          (position_embeddings): Embedding(72, 320, padding_idx=1)\n",
       "        )\n",
       "        (encoder): EsmEncoder(\n",
       "          (layer): ModuleList(\n",
       "            (0-1): 2 x EsmLayer(\n",
       "              (attention): EsmAttention(\n",
       "                (self): EsmSelfAttention(\n",
       "                  (query): Linear(in_features=320, out_features=320, bias=True)\n",
       "                  (key): Linear(in_features=320, out_features=320, bias=True)\n",
       "                  (value): Linear(in_features=320, out_features=320, bias=True)\n",
       "                  (dropout): Dropout(p=0.0, inplace=False)\n",
       "                  (rotary_embeddings): RotaryEmbedding()\n",
       "                )\n",
       "                (output): EsmSelfOutput(\n",
       "                  (dense): Linear(in_features=320, out_features=320, bias=True)\n",
       "                  (dropout): Dropout(p=0.1, inplace=False)\n",
       "                )\n",
       "                (LayerNorm): LayerNorm((320,), eps=1e-05, elementwise_affine=True)\n",
       "              )\n",
       "              (intermediate): EsmIntermediate(\n",
       "                (dense): Linear(in_features=320, out_features=1280, bias=True)\n",
       "              )\n",
       "              (output): EsmOutput(\n",
       "                (dense): Linear(in_features=1280, out_features=320, bias=True)\n",
       "                (dropout): Dropout(p=0.1, inplace=False)\n",
       "              )\n",
       "              (LayerNorm): LayerNorm((320,), eps=1e-05, elementwise_affine=True)\n",
       "            )\n",
       "          )\n",
       "          (emb_layer_norm_after): LayerNorm((320,), eps=1e-05, elementwise_affine=True)\n",
       "        )\n",
       "        (contact_head): EsmContactPredictionHead(\n",
       "          (regression): Linear(in_features=40, out_features=1, bias=True)\n",
       "          (activation): Sigmoid()\n",
       "        )\n",
       "      )\n",
       "      (classifier): EsmClassificationHead(\n",
       "        (dense): Linear(in_features=320, out_features=320, bias=True)\n",
       "        (dropout): Dropout(p=0.1, inplace=False)\n",
       "        (out_proj): Linear(in_features=320, out_features=21, bias=True)\n",
       "      )\n",
       "    )\n",
       "  ),\n",
       ")</pre></div></div></div></div></div></div></div></div></div></div></div></div>"
      ],
      "text/plain": [
       "CleanLearning(clf=Pipeline(steps=[('tokenizer',\n",
       "                                   HuggingfacePretrainedTokenizer(tokenizer='./pretrain_models/Cleanlab_esm')),\n",
       "                                  ('net',\n",
       "                                   <class '__main__.AcceleratedNet'>[initialized](\n",
       "  module_=Classification_Module(\n",
       "    (model): EsmForSequenceClassification(\n",
       "      (esm): EsmModel(\n",
       "        (embeddings): EsmEmbeddings(\n",
       "          (word_embeddings): Embedding(1581, 320, padding_idx=1)\n",
       "          (dropout): Drop...\n",
       "            4,    10,     9,    53,   279,  2741,  9511,  2801,   153,\n",
       "            7,     0,   549],\n",
       "       [    0,     2,     0,     1,     0,     2,     5,     2,     1,\n",
       "            3,     1,     2,     6,    43,   329,  3032,  9157,  2360,\n",
       "           24,     0,   406],\n",
       "       [    0,     0,     0,     0,     4,     0,     1,     1,     9,\n",
       "            2,     2,     6,    18,    18,    69,   454,  3473, 10294,\n",
       "          710,     0,  1004],\n",
       "       [    2,     0,     0,     7,     5,     2,     5,     3,     7,\n",
       "            6,     9,     3,    10,    12,    21,    58,   378,  2549,\n",
       "        13850,     0,  1126],\n",
       "       [    0,     0,     0,     0,     0,     0,     0,     0,     0,\n",
       "            0,     0,     1,     0,     0,     0,     0,     0,     0,\n",
       "            6,     1,     0],\n",
       "       [    0,     0,     0,     0,     0,     0,     0,     0,     0,\n",
       "            0,     0,     0,     0,     0,     0,     0,     0,     0,\n",
       "            1,     0,     1]]),\n",
       "                                        'min_examples_per_class': 10},\n",
       "              verbose=True)"
      ]
     },
     "execution_count": 13,
     "metadata": {},
     "output_type": "execute_result"
    }
   ],
   "source": [
    "found_label_issues = cl.get_label_issues()\n",
    "cl.fit(train_x, train_y, label_issues=found_label_issues)"
   ]
  },
  {
   "cell_type": "code",
   "execution_count": 15,
   "id": "a546bd81-0b8d-4a9f-b92b-b496154467c1",
   "metadata": {},
   "outputs": [],
   "source": [
    "label_issues.to_excel('./fine_tune_data/Label_issues of modelling data.xlsx')"
   ]
  },
  {
   "cell_type": "code",
   "execution_count": 17,
   "id": "9ec3cb27-b731-48af-996d-ab35d8d616b3",
   "metadata": {},
   "outputs": [
    {
     "name": "stdout",
     "output_type": "stream",
     "text": [
      "The number of false data is: 6509\n"
     ]
    }
   ],
   "source": [
    "## 将label_issues数据中given_label以及predicted_label差值的绝对值大于1的数据进行删除（去除异常数据）\n",
    "label_diff = abs(label_issues[\"predicted_label\"] - label_issues[\"given_label\"]) \n",
    "delect_index = label_issues[label_diff > 1].index\n",
    "print('The number of false data is:',len(delect_index))"
   ]
  },
  {
   "cell_type": "code",
   "execution_count": 18,
   "id": "05a40c6e-c008-4c5f-97ba-7cbcb7e1f37f",
   "metadata": {},
   "outputs": [
    {
     "data": {
      "text/html": [
       "<div>\n",
       "<style scoped>\n",
       "    .dataframe tbody tr th:only-of-type {\n",
       "        vertical-align: middle;\n",
       "    }\n",
       "\n",
       "    .dataframe tbody tr th {\n",
       "        vertical-align: top;\n",
       "    }\n",
       "\n",
       "    .dataframe thead th {\n",
       "        text-align: right;\n",
       "    }\n",
       "</style>\n",
       "<table border=\"1\" class=\"dataframe\">\n",
       "  <thead>\n",
       "    <tr style=\"text-align: right;\">\n",
       "      <th></th>\n",
       "      <th>Modified sequence</th>\n",
       "      <th>Charge</th>\n",
       "      <th>Length</th>\n",
       "      <th>Fragmentation</th>\n",
       "      <th>m/z</th>\n",
       "      <th>Mass</th>\n",
       "      <th>Retention time</th>\n",
       "      <th>CCS</th>\n",
       "      <th>Matches</th>\n",
       "      <th>Intensities</th>\n",
       "      <th>Masses</th>\n",
       "      <th>Intensity</th>\n",
       "      <th>Score</th>\n",
       "    </tr>\n",
       "  </thead>\n",
       "  <tbody>\n",
       "    <tr>\n",
       "      <th>1</th>\n",
       "      <td>AAAAAAAAAAAATGTEAGPGTAGGSENGSEVAAQPAGLSGPAEVGP...</td>\n",
       "      <td>3.0</td>\n",
       "      <td>52</td>\n",
       "      <td>2</td>\n",
       "      <td>1468.0429</td>\n",
       "      <td>4401.1069</td>\n",
       "      <td>84.68</td>\n",
       "      <td>840.61</td>\n",
       "      <td>y2;y3;y4;y5;y6;y7;y8;y9;y10;y12;y13;y14;y16;y1...</td>\n",
       "      <td>[0.0, 0.0, 54.5, 163.1, 388.9, 912.3, 1266.1, ...</td>\n",
       "      <td>[0.0, 0.0, 214.117024092357, 285.155549934846,...</td>\n",
       "      <td>92636.0</td>\n",
       "      <td>63.10</td>\n",
       "    </tr>\n",
       "    <tr>\n",
       "      <th>2</th>\n",
       "      <td>AAAAAAAAAAAATGTEAGPGTAGGSENGSEVAAQPAGLSGPAEVGP...</td>\n",
       "      <td>3.0</td>\n",
       "      <td>52</td>\n",
       "      <td>2</td>\n",
       "      <td>1468.0429</td>\n",
       "      <td>4401.1069</td>\n",
       "      <td>84.68</td>\n",
       "      <td>840.61</td>\n",
       "      <td>y2;y3;y4;y5;y7;y8;y9;y10;y12;y13;y14;y16;y18;b...</td>\n",
       "      <td>[0.0, 0.0, 17.9, 98.4, 358.1, 575.6, 1189.0, 1...</td>\n",
       "      <td>[0.0, 0.0, 214.117562639275, 285.155775087783,...</td>\n",
       "      <td>209040.0</td>\n",
       "      <td>55.18</td>\n",
       "    </tr>\n",
       "    <tr>\n",
       "      <th>4</th>\n",
       "      <td>[1]AAAAAAAAAAGAAGGR</td>\n",
       "      <td>2.0</td>\n",
       "      <td>16</td>\n",
       "      <td>2</td>\n",
       "      <td>620.8233</td>\n",
       "      <td>1239.6320</td>\n",
       "      <td>71.45</td>\n",
       "      <td>409.09</td>\n",
       "      <td>y2;y3;y4;y5;y6;y7;y8;y9;y10;y11;y12;y13;y14;y2...</td>\n",
       "      <td>[0.0, 0.0, 624.3, 1008.1, 666.0, 456.4, 248.0,...</td>\n",
       "      <td>[0.0, 0.0, 256.129507258295, 327.166322347601,...</td>\n",
       "      <td>55383.0</td>\n",
       "      <td>151.22</td>\n",
       "    </tr>\n",
       "    <tr>\n",
       "      <th>5</th>\n",
       "      <td>[1]AAAAAAAAAAGAAGGR</td>\n",
       "      <td>2.0</td>\n",
       "      <td>16</td>\n",
       "      <td>2</td>\n",
       "      <td>620.8233</td>\n",
       "      <td>1239.6320</td>\n",
       "      <td>71.45</td>\n",
       "      <td>409.09</td>\n",
       "      <td>y2;y4;y5;y6;y7;y8;y9;y10;y11;y12;y13;y14;y15;y...</td>\n",
       "      <td>[0.0, 19.2, 773.8, 1088.8, 983.4, 563.4, 371.3...</td>\n",
       "      <td>[0.0, 185.089118723619, 256.129193202073, 327....</td>\n",
       "      <td>149810.0</td>\n",
       "      <td>162.80</td>\n",
       "    </tr>\n",
       "    <tr>\n",
       "      <th>6</th>\n",
       "      <td>AAAAAAAAAPAAAATAPTTAATTAATAAQ</td>\n",
       "      <td>2.0</td>\n",
       "      <td>29</td>\n",
       "      <td>2</td>\n",
       "      <td>1184.6088</td>\n",
       "      <td>2367.2030</td>\n",
       "      <td>72.80</td>\n",
       "      <td>547.79</td>\n",
       "      <td>y2;y3;y4;y5;y6;y7;y8;y9;y13;y15;y17;y18;y8-H2O...</td>\n",
       "      <td>[0.0, 0.0, 60.3, 278.7, 607.4, 1387.3, 1781.5,...</td>\n",
       "      <td>[0.0, 0.0, 214.116459817245, 285.156862347979,...</td>\n",
       "      <td>122730.0</td>\n",
       "      <td>68.42</td>\n",
       "    </tr>\n",
       "    <tr>\n",
       "      <th>...</th>\n",
       "      <td>...</td>\n",
       "      <td>...</td>\n",
       "      <td>...</td>\n",
       "      <td>...</td>\n",
       "      <td>...</td>\n",
       "      <td>...</td>\n",
       "      <td>...</td>\n",
       "      <td>...</td>\n",
       "      <td>...</td>\n",
       "      <td>...</td>\n",
       "      <td>...</td>\n",
       "      <td>...</td>\n",
       "      <td>...</td>\n",
       "    </tr>\n",
       "    <tr>\n",
       "      <th>249816</th>\n",
       "      <td>YYVTIIDAPGHRDFIK</td>\n",
       "      <td>3.0</td>\n",
       "      <td>16</td>\n",
       "      <td>2</td>\n",
       "      <td>636.6720</td>\n",
       "      <td>1906.9941</td>\n",
       "      <td>74.40</td>\n",
       "      <td>532.57</td>\n",
       "      <td>y3;y5;y6;y7;y8;y9;y10;y11;y12;y13;y8-H2O;y9-H2...</td>\n",
       "      <td>[0.0, 1289.3, 211.3, 175.1, 0.0, 0.0, 0.0, 0.0...</td>\n",
       "      <td>[0.0, 327.133358274998, 426.202562281217, 527....</td>\n",
       "      <td>212860.0</td>\n",
       "      <td>84.31</td>\n",
       "    </tr>\n",
       "    <tr>\n",
       "      <th>249817</th>\n",
       "      <td>YYYAVVDC[4]DSPETASK</td>\n",
       "      <td>2.0</td>\n",
       "      <td>16</td>\n",
       "      <td>2</td>\n",
       "      <td>934.4064</td>\n",
       "      <td>1866.7982</td>\n",
       "      <td>60.42</td>\n",
       "      <td>452.93</td>\n",
       "      <td>y3;y4;y6;y7;y8;y9;y10;y11;y12;y12-H2O;a2;b2;b3...</td>\n",
       "      <td>[0.0, 171.4, 180.6, 200.5, 176.7, 23.1, 0.0, 0...</td>\n",
       "      <td>[0.0, 327.133940305433, 490.194982538756, 561....</td>\n",
       "      <td>61190.0</td>\n",
       "      <td>50.12</td>\n",
       "    </tr>\n",
       "    <tr>\n",
       "      <th>249818</th>\n",
       "      <td>YYYAVVDC[4]DSPETASK</td>\n",
       "      <td>2.0</td>\n",
       "      <td>16</td>\n",
       "      <td>2</td>\n",
       "      <td>934.4064</td>\n",
       "      <td>1866.7982</td>\n",
       "      <td>60.42</td>\n",
       "      <td>452.93</td>\n",
       "      <td>y2;y3;y4;y6;y7;y8;y9;y10;y11;y12;y13;y14;y6-H2...</td>\n",
       "      <td>[0.0, 361.6, 273.3, 180.5, 151.9, 0.0, 0.0, 0....</td>\n",
       "      <td>[0.0, 327.134565248805, 490.196021901735, 561....</td>\n",
       "      <td>54186.0</td>\n",
       "      <td>69.64</td>\n",
       "    </tr>\n",
       "    <tr>\n",
       "      <th>249819</th>\n",
       "      <td>YYYAVVDC[4]DSPETASK</td>\n",
       "      <td>2.0</td>\n",
       "      <td>16</td>\n",
       "      <td>2</td>\n",
       "      <td>934.4064</td>\n",
       "      <td>1866.7982</td>\n",
       "      <td>60.42</td>\n",
       "      <td>452.93</td>\n",
       "      <td>y2;y3;y4;y6;y7;y8;y9;y10;y11;y12;y13;y14;y9-H2...</td>\n",
       "      <td>[0.0, 1319.7, 1584.1, 1775.7, 1069.7, 330.1, 6...</td>\n",
       "      <td>[0.0, 327.134201394229, 490.194702307244, 561....</td>\n",
       "      <td>2715800.0</td>\n",
       "      <td>145.08</td>\n",
       "    </tr>\n",
       "    <tr>\n",
       "      <th>249820</th>\n",
       "      <td>YYYDGDMIC[4]K</td>\n",
       "      <td>2.0</td>\n",
       "      <td>10</td>\n",
       "      <td>2</td>\n",
       "      <td>664.2703</td>\n",
       "      <td>1326.5261</td>\n",
       "      <td>56.36</td>\n",
       "      <td>384.37</td>\n",
       "      <td>y2;y3;y4;y5;y6;y7;y8;y9;y7-H2O;y8-H2O;y9-H2O;y...</td>\n",
       "      <td>[0.0, 877.1, 0.0, 0.0, 0.0, 68.1, 0.0, 0.0, 0....</td>\n",
       "      <td>[0.0, 327.134117236667, 0.0, 0.0, 0.0, 777.265...</td>\n",
       "      <td>829020.0</td>\n",
       "      <td>99.30</td>\n",
       "    </tr>\n",
       "  </tbody>\n",
       "</table>\n",
       "<p>243312 rows × 13 columns</p>\n",
       "</div>"
      ],
      "text/plain": [
       "                                        Modified sequence  Charge Length  \\\n",
       "1       AAAAAAAAAAAATGTEAGPGTAGGSENGSEVAAQPAGLSGPAEVGP...     3.0     52   \n",
       "2       AAAAAAAAAAAATGTEAGPGTAGGSENGSEVAAQPAGLSGPAEVGP...     3.0     52   \n",
       "4                                     [1]AAAAAAAAAAGAAGGR     2.0     16   \n",
       "5                                     [1]AAAAAAAAAAGAAGGR     2.0     16   \n",
       "6                           AAAAAAAAAPAAAATAPTTAATTAATAAQ     2.0     29   \n",
       "...                                                   ...     ...    ...   \n",
       "249816                                   YYVTIIDAPGHRDFIK     3.0     16   \n",
       "249817                                YYYAVVDC[4]DSPETASK     2.0     16   \n",
       "249818                                YYYAVVDC[4]DSPETASK     2.0     16   \n",
       "249819                                YYYAVVDC[4]DSPETASK     2.0     16   \n",
       "249820                                      YYYDGDMIC[4]K     2.0     10   \n",
       "\n",
       "       Fragmentation        m/z       Mass  Retention time     CCS  \\\n",
       "1                  2  1468.0429  4401.1069           84.68  840.61   \n",
       "2                  2  1468.0429  4401.1069           84.68  840.61   \n",
       "4                  2   620.8233  1239.6320           71.45  409.09   \n",
       "5                  2   620.8233  1239.6320           71.45  409.09   \n",
       "6                  2  1184.6088  2367.2030           72.80  547.79   \n",
       "...              ...        ...        ...             ...     ...   \n",
       "249816             2   636.6720  1906.9941           74.40  532.57   \n",
       "249817             2   934.4064  1866.7982           60.42  452.93   \n",
       "249818             2   934.4064  1866.7982           60.42  452.93   \n",
       "249819             2   934.4064  1866.7982           60.42  452.93   \n",
       "249820             2   664.2703  1326.5261           56.36  384.37   \n",
       "\n",
       "                                                  Matches  \\\n",
       "1       y2;y3;y4;y5;y6;y7;y8;y9;y10;y12;y13;y14;y16;y1...   \n",
       "2       y2;y3;y4;y5;y7;y8;y9;y10;y12;y13;y14;y16;y18;b...   \n",
       "4       y2;y3;y4;y5;y6;y7;y8;y9;y10;y11;y12;y13;y14;y2...   \n",
       "5       y2;y4;y5;y6;y7;y8;y9;y10;y11;y12;y13;y14;y15;y...   \n",
       "6       y2;y3;y4;y5;y6;y7;y8;y9;y13;y15;y17;y18;y8-H2O...   \n",
       "...                                                   ...   \n",
       "249816  y3;y5;y6;y7;y8;y9;y10;y11;y12;y13;y8-H2O;y9-H2...   \n",
       "249817  y3;y4;y6;y7;y8;y9;y10;y11;y12;y12-H2O;a2;b2;b3...   \n",
       "249818  y2;y3;y4;y6;y7;y8;y9;y10;y11;y12;y13;y14;y6-H2...   \n",
       "249819  y2;y3;y4;y6;y7;y8;y9;y10;y11;y12;y13;y14;y9-H2...   \n",
       "249820  y2;y3;y4;y5;y6;y7;y8;y9;y7-H2O;y8-H2O;y9-H2O;y...   \n",
       "\n",
       "                                              Intensities  \\\n",
       "1       [0.0, 0.0, 54.5, 163.1, 388.9, 912.3, 1266.1, ...   \n",
       "2       [0.0, 0.0, 17.9, 98.4, 358.1, 575.6, 1189.0, 1...   \n",
       "4       [0.0, 0.0, 624.3, 1008.1, 666.0, 456.4, 248.0,...   \n",
       "5       [0.0, 19.2, 773.8, 1088.8, 983.4, 563.4, 371.3...   \n",
       "6       [0.0, 0.0, 60.3, 278.7, 607.4, 1387.3, 1781.5,...   \n",
       "...                                                   ...   \n",
       "249816  [0.0, 1289.3, 211.3, 175.1, 0.0, 0.0, 0.0, 0.0...   \n",
       "249817  [0.0, 171.4, 180.6, 200.5, 176.7, 23.1, 0.0, 0...   \n",
       "249818  [0.0, 361.6, 273.3, 180.5, 151.9, 0.0, 0.0, 0....   \n",
       "249819  [0.0, 1319.7, 1584.1, 1775.7, 1069.7, 330.1, 6...   \n",
       "249820  [0.0, 877.1, 0.0, 0.0, 0.0, 68.1, 0.0, 0.0, 0....   \n",
       "\n",
       "                                                   Masses  Intensity   Score  \n",
       "1       [0.0, 0.0, 214.117024092357, 285.155549934846,...    92636.0   63.10  \n",
       "2       [0.0, 0.0, 214.117562639275, 285.155775087783,...   209040.0   55.18  \n",
       "4       [0.0, 0.0, 256.129507258295, 327.166322347601,...    55383.0  151.22  \n",
       "5       [0.0, 185.089118723619, 256.129193202073, 327....   149810.0  162.80  \n",
       "6       [0.0, 0.0, 214.116459817245, 285.156862347979,...   122730.0   68.42  \n",
       "...                                                   ...        ...     ...  \n",
       "249816  [0.0, 327.133358274998, 426.202562281217, 527....   212860.0   84.31  \n",
       "249817  [0.0, 327.133940305433, 490.194982538756, 561....    61190.0   50.12  \n",
       "249818  [0.0, 327.134565248805, 490.196021901735, 561....    54186.0   69.64  \n",
       "249819  [0.0, 327.134201394229, 490.194702307244, 561....  2715800.0  145.08  \n",
       "249820  [0.0, 327.134117236667, 0.0, 0.0, 0.0, 777.265...   829020.0   99.30  \n",
       "\n",
       "[243312 rows x 13 columns]"
      ]
     },
     "execution_count": 18,
     "metadata": {},
     "output_type": "execute_result"
    }
   ],
   "source": [
    "# 删除行\n",
    "Data = Data.drop(delect_index)\n",
    "## 删除列\n",
    "Data = Data.drop(['norm_RT', 'norm_CCS'], axis=1)\n",
    "Data"
   ]
  },
  {
   "cell_type": "code",
   "execution_count": 19,
   "id": "8271a630-ace1-4f73-b7c2-9a04aeccf987",
   "metadata": {},
   "outputs": [],
   "source": [
    "## 将数据储存为pickle文件，用于后续建模使用\n",
    "Data = Data.reset_index(drop=True) ##重置index\n",
    "import pickle\n",
    "with open(r\"C:\\Users\\deep\\Desktop\\PepMTL\\fine_tune_data\\Clean_data.pkl\", 'wb') as f:\n",
    "    pickle.dump(Data, f)"
   ]
  },
  {
   "cell_type": "code",
   "execution_count": null,
   "id": "99bf955b-7a85-4346-9d0b-7082cd6d5848",
   "metadata": {},
   "outputs": [],
   "source": []
  }
 ],
 "metadata": {
  "kernelspec": {
   "display_name": "Python 3 (ipykernel)",
   "language": "python",
   "name": "python3"
  },
  "language_info": {
   "codemirror_mode": {
    "name": "ipython",
    "version": 3
   },
   "file_extension": ".py",
   "mimetype": "text/x-python",
   "name": "python",
   "nbconvert_exporter": "python",
   "pygments_lexer": "ipython3",
   "version": "3.11.0"
  }
 },
 "nbformat": 4,
 "nbformat_minor": 5
}
